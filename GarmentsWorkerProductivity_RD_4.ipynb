{
  "nbformat": 4,
  "nbformat_minor": 0,
  "metadata": {
    "colab": {
      "name": "GarmentsWorkerProductivity_RD_4.ipynb",
      "provenance": [],
      "collapsed_sections": [
        "nv1OBgWwR4kM",
        "fYwCZOm3R4kN",
        "Vfj-4UqDR4kN",
        "kJN_HMcIwa8n",
        "Gg3BreGdwa8o",
        "ws6J2i_Twa8p",
        "rMT4lcrRwa8r",
        "_CBP-ERwwa8t",
        "DrHemViHwa8u",
        "Q33BEThpwa8u",
        "CAu6so-6wa8v",
        "W4PC-Vwmwa8w",
        "H7TEO6dCwa8w",
        "_I7ZXy9Bwa8x",
        "X956PiwCR4kZ",
        "IRkfFXUFR4kb",
        "FvjMyHYQwa80",
        "_wdk_Hmhwa81",
        "LCPrV7eswa82",
        "nsdt7feFwa83",
        "4Mn1BFBVwa83",
        "CTLYM7Tgwa84",
        "pEoMK82Mwa84",
        "F72w1XuBwa85",
        "9zY0HvkAwa86",
        "BSdtvl9pwa86",
        "mPQbb9wtwa86",
        "azmL-o-Owa87"
      ],
      "toc_visible": true,
      "include_colab_link": true
    },
    "kernelspec": {
      "display_name": "Python 3",
      "language": "python",
      "name": "python3"
    },
    "language_info": {
      "codemirror_mode": {
        "name": "ipython",
        "version": 3
      },
      "file_extension": ".py",
      "mimetype": "text/x-python",
      "name": "python",
      "nbconvert_exporter": "python",
      "pygments_lexer": "ipython3",
      "version": "3.8.5"
    },
    "toc": {
      "base_numbering": 1,
      "nav_menu": {},
      "number_sections": true,
      "sideBar": true,
      "skip_h1_title": false,
      "title_cell": "Table of Contents",
      "title_sidebar": "Contents",
      "toc_cell": false,
      "toc_position": {
        "height": "calc(100% - 180px)",
        "left": "10px",
        "top": "150px",
        "width": "300.792px"
      },
      "toc_section_display": true,
      "toc_window_display": true
    },
    "varInspector": {
      "cols": {
        "lenName": 16,
        "lenType": 16,
        "lenVar": 40
      },
      "kernels_config": {
        "python": {
          "delete_cmd_postfix": "",
          "delete_cmd_prefix": "del ",
          "library": "var_list.py",
          "varRefreshCmd": "print(var_dic_list())"
        },
        "r": {
          "delete_cmd_postfix": ") ",
          "delete_cmd_prefix": "rm(",
          "library": "var_list.r",
          "varRefreshCmd": "cat(var_dic_list()) "
        }
      },
      "types_to_exclude": [
        "module",
        "function",
        "builtin_function_or_method",
        "instance",
        "_Feature"
      ],
      "window_display": false
    }
  },
  "cells": [
    {
      "cell_type": "markdown",
      "metadata": {
        "id": "view-in-github",
        "colab_type": "text"
      },
      "source": [
        "<a href=\"https://colab.research.google.com/github/rdiazg14/ProductividadEmpleados/blob/main/GarmentsWorkerProductivity_RD_4.ipynb\" target=\"_parent\"><img src=\"https://colab.research.google.com/assets/colab-badge.svg\" alt=\"Open In Colab\"/></a>"
      ]
    },
    {
      "cell_type": "markdown",
      "metadata": {
        "id": "GdFDxpVsR4kA"
      },
      "source": [
        "**Data Source**\n",
        "\n",
        "https://www.kaggle.com/ishadss/productivity-prediction-of-garment-employees?select=garments_worker_productivity.csv"
      ]
    },
    {
      "cell_type": "markdown",
      "metadata": {
        "id": "LnfumlFsR4kG"
      },
      "source": [
        "# Introduction\n",
        "\n",
        "## Context\n",
        "\n",
        "The Garment Industry is one of the key examples of the industrial globalization of this modern era. It is a highly labour-intensive industry with lots of manual processes. Satisfying the huge global demand for garment products is mostly dependent on the production and delivery performance of the employees in the garment manufacturing companies. So, it is highly desirable among the decision makers in the garments industry to track, analyse and predict the productivity performance of the working teams in their factories\n",
        "\n",
        "## Content\n",
        "\n",
        "This dataset includes important attributes of the garment manufacturing process and the productivity of the employees which had been collected manually and also been validated by the industry experts.\n",
        "\n",
        "Acknowledgements\n",
        "Relevant Papers:\n",
        "\n",
        "[1] Imran, A. A., Amin, M. N., Islam Rifat, M. R., & Mehreen, S. (2019). Deep Neural Network Approach for Predicting the Productivity of Garment Employees. 2019 6th International Conference on Control, Decision and Information Technologies (CoDIT). [Web Link]\n",
        "\n",
        "[2] Rahim, M. S., Imran, A. A., & Ahmed, T. (2021). Mining the Productivity Data of Garment Industry. International Journal of Business Intelligence and Data Mining, 1(1), 1. [Web Link]\n",
        "\n",
        "## Inspiration\n",
        "\n",
        "This dataset can be used for regression purpose by predicting the productivity range (0-1) or for classification purpose by transforming the productivity range (0-1) into different classes.\n",
        "\n",
        "## Task Details\n",
        "\n",
        "It is highly desirable among the decision makers in the garments industry to track, analyse and predict the productivity performance of the working teams in their factories.\n",
        "\n"
      ]
    },
    {
      "cell_type": "markdown",
      "metadata": {
        "id": "Jnmb835iR4kH"
      },
      "source": [
        "\n",
        "## About this file\n",
        "## Attribute Information:\n",
        "\n",
        "01 date : Date in MM-DD-YYYY\n",
        "\n",
        "02 day : Day of the Week\n",
        "\n",
        "03 quarter : A portion of the month. A month was divided into four quarters\n",
        "\n",
        "04 department : Associated department with the instance\n",
        "\n",
        "05 teamno : Associated team number with the instance \n",
        "\n",
        "06 noofworkers : Number of workers in each team \n",
        "\n",
        "07 noofstylechange : Number of changes in the style of a particular product\n",
        "\n",
        "08 targetedproductivity : Targeted productivity set by the Authority for each team for each day. \n",
        "\n",
        "09 smv : Standard Minute Value, it is the allocated time for a task \n",
        "\n",
        "10 wip : Work in progress. Includes the number of unfinished items for products \n",
        "\n",
        "11 overtime : Represents the amount of overtime by each team in minutes\n",
        "\n",
        "12 incentive : Represents the amount of financial incentive (in BDT) that enables or motivates a particular course of action.\n",
        "\n",
        "13 idletime : The amount of time when the production was interrupted due to several reasons \n",
        "\n",
        "14 idlemen : The number of workers who were idle due to production interruption\n",
        "\n",
        "15 actual_productivity : The actual % of productivity that was delivered by the workers. It ranges from 0-1."
      ]
    },
    {
      "cell_type": "markdown",
      "metadata": {
        "id": "TCuisfEBR4kH"
      },
      "source": [
        "# Importing Libraries and Data"
      ]
    },
    {
      "cell_type": "code",
      "metadata": {
        "ExecuteTime": {
          "end_time": "2021-05-19T20:22:06.333498Z",
          "start_time": "2021-05-19T20:22:03.220979Z"
        },
        "id": "q_eROiObR4kI"
      },
      "source": [
        "import pandas as pd\n",
        "import numpy as np\n",
        "import seaborn as sns\n",
        "import matplotlib.pyplot as plt\n",
        "from matplotlib import pyplot\n",
        "%matplotlib inline"
      ],
      "execution_count": null,
      "outputs": []
    },
    {
      "cell_type": "code",
      "metadata": {
        "id": "9wIwmltgxI9Y"
      },
      "source": [
        "!wget -O garments_worker_productivity.csv https://archive.ics.uci.edu/ml/machine-learning-databases/00597/garments_worker_productivity.csv"
      ],
      "execution_count": null,
      "outputs": []
    },
    {
      "cell_type": "code",
      "metadata": {
        "ExecuteTime": {
          "end_time": "2021-05-19T20:22:06.499628Z",
          "start_time": "2021-05-19T20:22:06.379806Z"
        },
        "colab": {
          "base_uri": "https://localhost:8080/",
          "height": 215
        },
        "id": "0vvQxQ0fR4kI",
        "outputId": "e84d7e30-fa64-4914-9689-991045a7c851"
      },
      "source": [
        "# Load input data file\n",
        "# RD GIT. 1.2 Configuración del DATASET y lectura inicial\n",
        "#Lectura del dataset\n",
        "file_name = \"garments_worker_productivity.csv\"\n",
        "\n",
        "df=pd.read_csv('garments_worker_productivity.csv', header=0, index_col=0, parse_dates=True, squeeze=True)\n",
        "df.head()"
      ],
      "execution_count": null,
      "outputs": [
        {
          "output_type": "execute_result",
          "data": {
            "text/html": [
              "<div>\n",
              "<style scoped>\n",
              "    .dataframe tbody tr th:only-of-type {\n",
              "        vertical-align: middle;\n",
              "    }\n",
              "\n",
              "    .dataframe tbody tr th {\n",
              "        vertical-align: top;\n",
              "    }\n",
              "\n",
              "    .dataframe thead th {\n",
              "        text-align: right;\n",
              "    }\n",
              "</style>\n",
              "<table border=\"1\" class=\"dataframe\">\n",
              "  <thead>\n",
              "    <tr style=\"text-align: right;\">\n",
              "      <th></th>\n",
              "      <th>quarter</th>\n",
              "      <th>department</th>\n",
              "      <th>day</th>\n",
              "      <th>team</th>\n",
              "      <th>targeted_productivity</th>\n",
              "      <th>smv</th>\n",
              "      <th>wip</th>\n",
              "      <th>over_time</th>\n",
              "      <th>incentive</th>\n",
              "      <th>idle_time</th>\n",
              "      <th>idle_men</th>\n",
              "      <th>no_of_style_change</th>\n",
              "      <th>no_of_workers</th>\n",
              "      <th>actual_productivity</th>\n",
              "    </tr>\n",
              "    <tr>\n",
              "      <th>date</th>\n",
              "      <th></th>\n",
              "      <th></th>\n",
              "      <th></th>\n",
              "      <th></th>\n",
              "      <th></th>\n",
              "      <th></th>\n",
              "      <th></th>\n",
              "      <th></th>\n",
              "      <th></th>\n",
              "      <th></th>\n",
              "      <th></th>\n",
              "      <th></th>\n",
              "      <th></th>\n",
              "      <th></th>\n",
              "    </tr>\n",
              "  </thead>\n",
              "  <tbody>\n",
              "    <tr>\n",
              "      <th>2015-01-01</th>\n",
              "      <td>Quarter1</td>\n",
              "      <td>sweing</td>\n",
              "      <td>Thursday</td>\n",
              "      <td>8</td>\n",
              "      <td>0.80</td>\n",
              "      <td>26.16</td>\n",
              "      <td>1108.0</td>\n",
              "      <td>7080</td>\n",
              "      <td>98</td>\n",
              "      <td>0.0</td>\n",
              "      <td>0</td>\n",
              "      <td>0</td>\n",
              "      <td>59.0</td>\n",
              "      <td>0.940725</td>\n",
              "    </tr>\n",
              "    <tr>\n",
              "      <th>2015-01-01</th>\n",
              "      <td>Quarter1</td>\n",
              "      <td>finishing</td>\n",
              "      <td>Thursday</td>\n",
              "      <td>1</td>\n",
              "      <td>0.75</td>\n",
              "      <td>3.94</td>\n",
              "      <td>NaN</td>\n",
              "      <td>960</td>\n",
              "      <td>0</td>\n",
              "      <td>0.0</td>\n",
              "      <td>0</td>\n",
              "      <td>0</td>\n",
              "      <td>8.0</td>\n",
              "      <td>0.886500</td>\n",
              "    </tr>\n",
              "    <tr>\n",
              "      <th>2015-01-01</th>\n",
              "      <td>Quarter1</td>\n",
              "      <td>sweing</td>\n",
              "      <td>Thursday</td>\n",
              "      <td>11</td>\n",
              "      <td>0.80</td>\n",
              "      <td>11.41</td>\n",
              "      <td>968.0</td>\n",
              "      <td>3660</td>\n",
              "      <td>50</td>\n",
              "      <td>0.0</td>\n",
              "      <td>0</td>\n",
              "      <td>0</td>\n",
              "      <td>30.5</td>\n",
              "      <td>0.800570</td>\n",
              "    </tr>\n",
              "    <tr>\n",
              "      <th>2015-01-01</th>\n",
              "      <td>Quarter1</td>\n",
              "      <td>sweing</td>\n",
              "      <td>Thursday</td>\n",
              "      <td>12</td>\n",
              "      <td>0.80</td>\n",
              "      <td>11.41</td>\n",
              "      <td>968.0</td>\n",
              "      <td>3660</td>\n",
              "      <td>50</td>\n",
              "      <td>0.0</td>\n",
              "      <td>0</td>\n",
              "      <td>0</td>\n",
              "      <td>30.5</td>\n",
              "      <td>0.800570</td>\n",
              "    </tr>\n",
              "    <tr>\n",
              "      <th>2015-01-01</th>\n",
              "      <td>Quarter1</td>\n",
              "      <td>sweing</td>\n",
              "      <td>Thursday</td>\n",
              "      <td>6</td>\n",
              "      <td>0.80</td>\n",
              "      <td>25.90</td>\n",
              "      <td>1170.0</td>\n",
              "      <td>1920</td>\n",
              "      <td>50</td>\n",
              "      <td>0.0</td>\n",
              "      <td>0</td>\n",
              "      <td>0</td>\n",
              "      <td>56.0</td>\n",
              "      <td>0.800382</td>\n",
              "    </tr>\n",
              "  </tbody>\n",
              "</table>\n",
              "</div>"
            ],
            "text/plain": [
              "             quarter  department       day  team  targeted_productivity  \\\n",
              "date                                                                      \n",
              "2015-01-01  Quarter1      sweing  Thursday     8                   0.80   \n",
              "2015-01-01  Quarter1  finishing   Thursday     1                   0.75   \n",
              "2015-01-01  Quarter1      sweing  Thursday    11                   0.80   \n",
              "2015-01-01  Quarter1      sweing  Thursday    12                   0.80   \n",
              "2015-01-01  Quarter1      sweing  Thursday     6                   0.80   \n",
              "\n",
              "              smv     wip  over_time  incentive  idle_time  idle_men  \\\n",
              "date                                                                   \n",
              "2015-01-01  26.16  1108.0       7080         98        0.0         0   \n",
              "2015-01-01   3.94     NaN        960          0        0.0         0   \n",
              "2015-01-01  11.41   968.0       3660         50        0.0         0   \n",
              "2015-01-01  11.41   968.0       3660         50        0.0         0   \n",
              "2015-01-01  25.90  1170.0       1920         50        0.0         0   \n",
              "\n",
              "            no_of_style_change  no_of_workers  actual_productivity  \n",
              "date                                                                \n",
              "2015-01-01                   0           59.0             0.940725  \n",
              "2015-01-01                   0            8.0             0.886500  \n",
              "2015-01-01                   0           30.5             0.800570  \n",
              "2015-01-01                   0           30.5             0.800570  \n",
              "2015-01-01                   0           56.0             0.800382  "
            ]
          },
          "metadata": {
            "tags": []
          },
          "execution_count": 2
        }
      ]
    },
    {
      "cell_type": "code",
      "metadata": {
        "ExecuteTime": {
          "end_time": "2021-05-19T20:22:06.595199Z",
          "start_time": "2021-05-19T20:22:06.583144Z"
        },
        "colab": {
          "base_uri": "https://localhost:8080/"
        },
        "id": "G2eYUAWUR4kI",
        "outputId": "48806f71-b8aa-4d70-b098-ec9d5b9abb26"
      },
      "source": [
        "df.shape"
      ],
      "execution_count": null,
      "outputs": [
        {
          "output_type": "execute_result",
          "data": {
            "text/plain": [
              "(1197, 14)"
            ]
          },
          "metadata": {
            "tags": []
          },
          "execution_count": 3
        }
      ]
    },
    {
      "cell_type": "code",
      "metadata": {
        "ExecuteTime": {
          "end_time": "2021-05-19T20:22:06.737054Z",
          "start_time": "2021-05-19T20:22:06.694432Z"
        },
        "colab": {
          "base_uri": "https://localhost:8080/"
        },
        "id": "kcUVPaFDR4kJ",
        "outputId": "8411e172-eabf-4a28-c907-3abb367682b3"
      },
      "source": [
        "df.info()"
      ],
      "execution_count": null,
      "outputs": [
        {
          "output_type": "stream",
          "text": [
            "<class 'pandas.core.frame.DataFrame'>\n",
            "DatetimeIndex: 1197 entries, 2015-01-01 to 2015-03-11\n",
            "Data columns (total 14 columns):\n",
            " #   Column                 Non-Null Count  Dtype  \n",
            "---  ------                 --------------  -----  \n",
            " 0   quarter                1197 non-null   object \n",
            " 1   department             1197 non-null   object \n",
            " 2   day                    1197 non-null   object \n",
            " 3   team                   1197 non-null   int64  \n",
            " 4   targeted_productivity  1197 non-null   float64\n",
            " 5   smv                    1197 non-null   float64\n",
            " 6   wip                    691 non-null    float64\n",
            " 7   over_time              1197 non-null   int64  \n",
            " 8   incentive              1197 non-null   int64  \n",
            " 9   idle_time              1197 non-null   float64\n",
            " 10  idle_men               1197 non-null   int64  \n",
            " 11  no_of_style_change     1197 non-null   int64  \n",
            " 12  no_of_workers          1197 non-null   float64\n",
            " 13  actual_productivity    1197 non-null   float64\n",
            "dtypes: float64(6), int64(5), object(3)\n",
            "memory usage: 140.3+ KB\n"
          ],
          "name": "stdout"
        }
      ]
    },
    {
      "cell_type": "markdown",
      "metadata": {
        "id": "QAjgliC9R4kJ"
      },
      "source": [
        "There are mising values in wip column"
      ]
    },
    {
      "cell_type": "code",
      "metadata": {
        "ExecuteTime": {
          "end_time": "2021-05-19T20:22:11.395958Z",
          "start_time": "2021-05-19T20:22:11.367575Z"
        },
        "colab": {
          "base_uri": "https://localhost:8080/"
        },
        "id": "yMr_XCpqR4kJ",
        "outputId": "61c727c9-a87d-4178-b1c1-7ee79616081e"
      },
      "source": [
        "df.isnull().sum()"
      ],
      "execution_count": null,
      "outputs": [
        {
          "output_type": "execute_result",
          "data": {
            "text/plain": [
              "quarter                    0\n",
              "department                 0\n",
              "day                        0\n",
              "team                       0\n",
              "targeted_productivity      0\n",
              "smv                        0\n",
              "wip                      506\n",
              "over_time                  0\n",
              "incentive                  0\n",
              "idle_time                  0\n",
              "idle_men                   0\n",
              "no_of_style_change         0\n",
              "no_of_workers              0\n",
              "actual_productivity        0\n",
              "dtype: int64"
            ]
          },
          "metadata": {
            "tags": []
          },
          "execution_count": 5
        }
      ]
    },
    {
      "cell_type": "code",
      "metadata": {
        "ExecuteTime": {
          "end_time": "2021-05-19T20:22:15.523136Z",
          "start_time": "2021-05-19T20:22:15.428530Z"
        },
        "colab": {
          "base_uri": "https://localhost:8080/",
          "height": 304
        },
        "id": "Rv6fV7OdR4kK",
        "outputId": "aba2e2bd-8f56-4e70-eee3-43b67546d08e"
      },
      "source": [
        "df.describe()"
      ],
      "execution_count": null,
      "outputs": [
        {
          "output_type": "execute_result",
          "data": {
            "text/html": [
              "<div>\n",
              "<style scoped>\n",
              "    .dataframe tbody tr th:only-of-type {\n",
              "        vertical-align: middle;\n",
              "    }\n",
              "\n",
              "    .dataframe tbody tr th {\n",
              "        vertical-align: top;\n",
              "    }\n",
              "\n",
              "    .dataframe thead th {\n",
              "        text-align: right;\n",
              "    }\n",
              "</style>\n",
              "<table border=\"1\" class=\"dataframe\">\n",
              "  <thead>\n",
              "    <tr style=\"text-align: right;\">\n",
              "      <th></th>\n",
              "      <th>team</th>\n",
              "      <th>targeted_productivity</th>\n",
              "      <th>smv</th>\n",
              "      <th>wip</th>\n",
              "      <th>over_time</th>\n",
              "      <th>incentive</th>\n",
              "      <th>idle_time</th>\n",
              "      <th>idle_men</th>\n",
              "      <th>no_of_style_change</th>\n",
              "      <th>no_of_workers</th>\n",
              "      <th>actual_productivity</th>\n",
              "    </tr>\n",
              "  </thead>\n",
              "  <tbody>\n",
              "    <tr>\n",
              "      <th>count</th>\n",
              "      <td>1197.000000</td>\n",
              "      <td>1197.000000</td>\n",
              "      <td>1197.000000</td>\n",
              "      <td>691.000000</td>\n",
              "      <td>1197.000000</td>\n",
              "      <td>1197.000000</td>\n",
              "      <td>1197.000000</td>\n",
              "      <td>1197.000000</td>\n",
              "      <td>1197.000000</td>\n",
              "      <td>1197.000000</td>\n",
              "      <td>1197.000000</td>\n",
              "    </tr>\n",
              "    <tr>\n",
              "      <th>mean</th>\n",
              "      <td>6.426901</td>\n",
              "      <td>0.729632</td>\n",
              "      <td>15.062172</td>\n",
              "      <td>1190.465991</td>\n",
              "      <td>4567.460317</td>\n",
              "      <td>38.210526</td>\n",
              "      <td>0.730159</td>\n",
              "      <td>0.369256</td>\n",
              "      <td>0.150376</td>\n",
              "      <td>34.609858</td>\n",
              "      <td>0.735091</td>\n",
              "    </tr>\n",
              "    <tr>\n",
              "      <th>std</th>\n",
              "      <td>3.463963</td>\n",
              "      <td>0.097891</td>\n",
              "      <td>10.943219</td>\n",
              "      <td>1837.455001</td>\n",
              "      <td>3348.823563</td>\n",
              "      <td>160.182643</td>\n",
              "      <td>12.709757</td>\n",
              "      <td>3.268987</td>\n",
              "      <td>0.427848</td>\n",
              "      <td>22.197687</td>\n",
              "      <td>0.174488</td>\n",
              "    </tr>\n",
              "    <tr>\n",
              "      <th>min</th>\n",
              "      <td>1.000000</td>\n",
              "      <td>0.070000</td>\n",
              "      <td>2.900000</td>\n",
              "      <td>7.000000</td>\n",
              "      <td>0.000000</td>\n",
              "      <td>0.000000</td>\n",
              "      <td>0.000000</td>\n",
              "      <td>0.000000</td>\n",
              "      <td>0.000000</td>\n",
              "      <td>2.000000</td>\n",
              "      <td>0.233705</td>\n",
              "    </tr>\n",
              "    <tr>\n",
              "      <th>25%</th>\n",
              "      <td>3.000000</td>\n",
              "      <td>0.700000</td>\n",
              "      <td>3.940000</td>\n",
              "      <td>774.500000</td>\n",
              "      <td>1440.000000</td>\n",
              "      <td>0.000000</td>\n",
              "      <td>0.000000</td>\n",
              "      <td>0.000000</td>\n",
              "      <td>0.000000</td>\n",
              "      <td>9.000000</td>\n",
              "      <td>0.650307</td>\n",
              "    </tr>\n",
              "    <tr>\n",
              "      <th>50%</th>\n",
              "      <td>6.000000</td>\n",
              "      <td>0.750000</td>\n",
              "      <td>15.260000</td>\n",
              "      <td>1039.000000</td>\n",
              "      <td>3960.000000</td>\n",
              "      <td>0.000000</td>\n",
              "      <td>0.000000</td>\n",
              "      <td>0.000000</td>\n",
              "      <td>0.000000</td>\n",
              "      <td>34.000000</td>\n",
              "      <td>0.773333</td>\n",
              "    </tr>\n",
              "    <tr>\n",
              "      <th>75%</th>\n",
              "      <td>9.000000</td>\n",
              "      <td>0.800000</td>\n",
              "      <td>24.260000</td>\n",
              "      <td>1252.500000</td>\n",
              "      <td>6960.000000</td>\n",
              "      <td>50.000000</td>\n",
              "      <td>0.000000</td>\n",
              "      <td>0.000000</td>\n",
              "      <td>0.000000</td>\n",
              "      <td>57.000000</td>\n",
              "      <td>0.850253</td>\n",
              "    </tr>\n",
              "    <tr>\n",
              "      <th>max</th>\n",
              "      <td>12.000000</td>\n",
              "      <td>0.800000</td>\n",
              "      <td>54.560000</td>\n",
              "      <td>23122.000000</td>\n",
              "      <td>25920.000000</td>\n",
              "      <td>3600.000000</td>\n",
              "      <td>300.000000</td>\n",
              "      <td>45.000000</td>\n",
              "      <td>2.000000</td>\n",
              "      <td>89.000000</td>\n",
              "      <td>1.120437</td>\n",
              "    </tr>\n",
              "  </tbody>\n",
              "</table>\n",
              "</div>"
            ],
            "text/plain": [
              "              team  targeted_productivity          smv           wip  \\\n",
              "count  1197.000000            1197.000000  1197.000000    691.000000   \n",
              "mean      6.426901               0.729632    15.062172   1190.465991   \n",
              "std       3.463963               0.097891    10.943219   1837.455001   \n",
              "min       1.000000               0.070000     2.900000      7.000000   \n",
              "25%       3.000000               0.700000     3.940000    774.500000   \n",
              "50%       6.000000               0.750000    15.260000   1039.000000   \n",
              "75%       9.000000               0.800000    24.260000   1252.500000   \n",
              "max      12.000000               0.800000    54.560000  23122.000000   \n",
              "\n",
              "          over_time    incentive    idle_time     idle_men  \\\n",
              "count   1197.000000  1197.000000  1197.000000  1197.000000   \n",
              "mean    4567.460317    38.210526     0.730159     0.369256   \n",
              "std     3348.823563   160.182643    12.709757     3.268987   \n",
              "min        0.000000     0.000000     0.000000     0.000000   \n",
              "25%     1440.000000     0.000000     0.000000     0.000000   \n",
              "50%     3960.000000     0.000000     0.000000     0.000000   \n",
              "75%     6960.000000    50.000000     0.000000     0.000000   \n",
              "max    25920.000000  3600.000000   300.000000    45.000000   \n",
              "\n",
              "       no_of_style_change  no_of_workers  actual_productivity  \n",
              "count         1197.000000    1197.000000          1197.000000  \n",
              "mean             0.150376      34.609858             0.735091  \n",
              "std              0.427848      22.197687             0.174488  \n",
              "min              0.000000       2.000000             0.233705  \n",
              "25%              0.000000       9.000000             0.650307  \n",
              "50%              0.000000      34.000000             0.773333  \n",
              "75%              0.000000      57.000000             0.850253  \n",
              "max              2.000000      89.000000             1.120437  "
            ]
          },
          "metadata": {
            "tags": []
          },
          "execution_count": 6
        }
      ]
    },
    {
      "cell_type": "code",
      "metadata": {
        "ExecuteTime": {
          "end_time": "2021-05-19T20:22:15.734229Z",
          "start_time": "2021-05-19T20:22:15.709216Z"
        },
        "id": "mSJ-IXxZwa8i",
        "outputId": "2cbb90f9-fd69-4689-cd14-ee605cfda448"
      },
      "source": [
        "df.shape"
      ],
      "execution_count": null,
      "outputs": [
        {
          "output_type": "execute_result",
          "data": {
            "text/plain": [
              "(1197, 14)"
            ]
          },
          "metadata": {
            "tags": []
          },
          "execution_count": 7
        }
      ]
    },
    {
      "cell_type": "markdown",
      "metadata": {
        "id": "qfqdjIaHwa8i"
      },
      "source": [
        "In order to have a quick overwiev of the data pairplot diagram will be used here"
      ]
    },
    {
      "cell_type": "code",
      "metadata": {
        "ExecuteTime": {
          "end_time": "2021-05-19T20:22:18.494587Z",
          "start_time": "2021-05-19T20:22:18.466810Z"
        },
        "id": "f3B_6mPER4ka"
      },
      "source": [
        "#sns.pairplot(df)"
      ],
      "execution_count": null,
      "outputs": []
    },
    {
      "cell_type": "markdown",
      "metadata": {
        "id": "81Zm8XtPwa8j"
      },
      "source": [
        "# Categorical Features"
      ]
    },
    {
      "cell_type": "markdown",
      "metadata": {
        "id": "mM8VYfTdwa8j"
      },
      "source": [
        "Quarter,department and day are categorical features"
      ]
    },
    {
      "cell_type": "code",
      "metadata": {
        "ExecuteTime": {
          "end_time": "2021-05-19T20:24:28.151290Z",
          "start_time": "2021-05-19T20:24:28.125527Z"
        },
        "id": "eDV8Dnyfwa8j"
      },
      "source": [
        "''' Comment'''\n",
        "categorical_cols = ['quarter', 'department', 'day', 'team']\n",
        "\n",
        "# Also team. "
      ],
      "execution_count": null,
      "outputs": []
    },
    {
      "cell_type": "code",
      "metadata": {
        "ExecuteTime": {
          "end_time": "2021-05-19T20:24:28.486083Z",
          "start_time": "2021-05-19T20:24:28.430604Z"
        },
        "id": "sz4fvJzbwa8j",
        "outputId": "0d7d563f-0f13-483d-88da-83549c633862"
      },
      "source": [
        "df.head()"
      ],
      "execution_count": null,
      "outputs": [
        {
          "output_type": "execute_result",
          "data": {
            "text/html": [
              "<div>\n",
              "<style scoped>\n",
              "    .dataframe tbody tr th:only-of-type {\n",
              "        vertical-align: middle;\n",
              "    }\n",
              "\n",
              "    .dataframe tbody tr th {\n",
              "        vertical-align: top;\n",
              "    }\n",
              "\n",
              "    .dataframe thead th {\n",
              "        text-align: right;\n",
              "    }\n",
              "</style>\n",
              "<table border=\"1\" class=\"dataframe\">\n",
              "  <thead>\n",
              "    <tr style=\"text-align: right;\">\n",
              "      <th></th>\n",
              "      <th>quarter</th>\n",
              "      <th>department</th>\n",
              "      <th>day</th>\n",
              "      <th>team</th>\n",
              "      <th>targeted_productivity</th>\n",
              "      <th>smv</th>\n",
              "      <th>wip</th>\n",
              "      <th>over_time</th>\n",
              "      <th>incentive</th>\n",
              "      <th>idle_time</th>\n",
              "      <th>idle_men</th>\n",
              "      <th>no_of_style_change</th>\n",
              "      <th>no_of_workers</th>\n",
              "      <th>actual_productivity</th>\n",
              "    </tr>\n",
              "    <tr>\n",
              "      <th>date</th>\n",
              "      <th></th>\n",
              "      <th></th>\n",
              "      <th></th>\n",
              "      <th></th>\n",
              "      <th></th>\n",
              "      <th></th>\n",
              "      <th></th>\n",
              "      <th></th>\n",
              "      <th></th>\n",
              "      <th></th>\n",
              "      <th></th>\n",
              "      <th></th>\n",
              "      <th></th>\n",
              "      <th></th>\n",
              "    </tr>\n",
              "  </thead>\n",
              "  <tbody>\n",
              "    <tr>\n",
              "      <th>2015-01-01</th>\n",
              "      <td>Quarter1</td>\n",
              "      <td>sweing</td>\n",
              "      <td>Thursday</td>\n",
              "      <td>8</td>\n",
              "      <td>0.80</td>\n",
              "      <td>26.16</td>\n",
              "      <td>1108.0</td>\n",
              "      <td>7080</td>\n",
              "      <td>98</td>\n",
              "      <td>0.0</td>\n",
              "      <td>0</td>\n",
              "      <td>0</td>\n",
              "      <td>59.0</td>\n",
              "      <td>0.940725</td>\n",
              "    </tr>\n",
              "    <tr>\n",
              "      <th>2015-01-01</th>\n",
              "      <td>Quarter1</td>\n",
              "      <td>finishing</td>\n",
              "      <td>Thursday</td>\n",
              "      <td>1</td>\n",
              "      <td>0.75</td>\n",
              "      <td>3.94</td>\n",
              "      <td>NaN</td>\n",
              "      <td>960</td>\n",
              "      <td>0</td>\n",
              "      <td>0.0</td>\n",
              "      <td>0</td>\n",
              "      <td>0</td>\n",
              "      <td>8.0</td>\n",
              "      <td>0.886500</td>\n",
              "    </tr>\n",
              "    <tr>\n",
              "      <th>2015-01-01</th>\n",
              "      <td>Quarter1</td>\n",
              "      <td>sweing</td>\n",
              "      <td>Thursday</td>\n",
              "      <td>11</td>\n",
              "      <td>0.80</td>\n",
              "      <td>11.41</td>\n",
              "      <td>968.0</td>\n",
              "      <td>3660</td>\n",
              "      <td>50</td>\n",
              "      <td>0.0</td>\n",
              "      <td>0</td>\n",
              "      <td>0</td>\n",
              "      <td>30.5</td>\n",
              "      <td>0.800570</td>\n",
              "    </tr>\n",
              "    <tr>\n",
              "      <th>2015-01-01</th>\n",
              "      <td>Quarter1</td>\n",
              "      <td>sweing</td>\n",
              "      <td>Thursday</td>\n",
              "      <td>12</td>\n",
              "      <td>0.80</td>\n",
              "      <td>11.41</td>\n",
              "      <td>968.0</td>\n",
              "      <td>3660</td>\n",
              "      <td>50</td>\n",
              "      <td>0.0</td>\n",
              "      <td>0</td>\n",
              "      <td>0</td>\n",
              "      <td>30.5</td>\n",
              "      <td>0.800570</td>\n",
              "    </tr>\n",
              "    <tr>\n",
              "      <th>2015-01-01</th>\n",
              "      <td>Quarter1</td>\n",
              "      <td>sweing</td>\n",
              "      <td>Thursday</td>\n",
              "      <td>6</td>\n",
              "      <td>0.80</td>\n",
              "      <td>25.90</td>\n",
              "      <td>1170.0</td>\n",
              "      <td>1920</td>\n",
              "      <td>50</td>\n",
              "      <td>0.0</td>\n",
              "      <td>0</td>\n",
              "      <td>0</td>\n",
              "      <td>56.0</td>\n",
              "      <td>0.800382</td>\n",
              "    </tr>\n",
              "  </tbody>\n",
              "</table>\n",
              "</div>"
            ],
            "text/plain": [
              "             quarter  department       day  team  targeted_productivity  \\\n",
              "date                                                                      \n",
              "2015-01-01  Quarter1      sweing  Thursday     8                   0.80   \n",
              "2015-01-01  Quarter1  finishing   Thursday     1                   0.75   \n",
              "2015-01-01  Quarter1      sweing  Thursday    11                   0.80   \n",
              "2015-01-01  Quarter1      sweing  Thursday    12                   0.80   \n",
              "2015-01-01  Quarter1      sweing  Thursday     6                   0.80   \n",
              "\n",
              "              smv     wip  over_time  incentive  idle_time  idle_men  \\\n",
              "date                                                                   \n",
              "2015-01-01  26.16  1108.0       7080         98        0.0         0   \n",
              "2015-01-01   3.94     NaN        960          0        0.0         0   \n",
              "2015-01-01  11.41   968.0       3660         50        0.0         0   \n",
              "2015-01-01  11.41   968.0       3660         50        0.0         0   \n",
              "2015-01-01  25.90  1170.0       1920         50        0.0         0   \n",
              "\n",
              "            no_of_style_change  no_of_workers  actual_productivity  \n",
              "date                                                                \n",
              "2015-01-01                   0           59.0             0.940725  \n",
              "2015-01-01                   0            8.0             0.886500  \n",
              "2015-01-01                   0           30.5             0.800570  \n",
              "2015-01-01                   0           30.5             0.800570  \n",
              "2015-01-01                   0           56.0             0.800382  "
            ]
          },
          "metadata": {
            "tags": []
          },
          "execution_count": 13
        }
      ]
    },
    {
      "cell_type": "markdown",
      "metadata": {
        "id": "nv1OBgWwR4kM"
      },
      "source": [
        "## 1-Quarter"
      ]
    },
    {
      "cell_type": "code",
      "metadata": {
        "ExecuteTime": {
          "end_time": "2021-05-19T20:24:29.854501Z",
          "start_time": "2021-05-19T20:24:29.809016Z"
        },
        "id": "leGV-0opwa8j",
        "outputId": "edb4fa9c-2019-460a-d9d2-606d88cadc5b"
      },
      "source": [
        "'''Sample Code'''\n",
        "\n",
        "for each_col in categorical_cols:\n",
        "    print(each_col)\n",
        "    print(df[each_col].value_counts())\n",
        "    print('-----')"
      ],
      "execution_count": null,
      "outputs": [
        {
          "output_type": "stream",
          "text": [
            "quarter\n",
            "Quarter1    360\n",
            "Quarter2    335\n",
            "Quarter4    248\n",
            "Quarter3    210\n",
            "Quarter5     44\n",
            "Name: quarter, dtype: int64\n",
            "-----\n",
            "department\n",
            "sweing        691\n",
            "finishing     257\n",
            "finishing     249\n",
            "Name: department, dtype: int64\n",
            "-----\n",
            "day\n",
            "Wednesday    208\n",
            "Sunday       203\n",
            "Tuesday      201\n",
            "Monday       199\n",
            "Thursday     199\n",
            "Saturday     187\n",
            "Name: day, dtype: int64\n",
            "-----\n",
            "team\n",
            "8     109\n",
            "2     109\n",
            "4     105\n",
            "1     105\n",
            "9     104\n",
            "10    100\n",
            "12     99\n",
            "7      96\n",
            "3      95\n",
            "6      94\n",
            "5      93\n",
            "11     88\n",
            "Name: team, dtype: int64\n",
            "-----\n"
          ],
          "name": "stdout"
        }
      ]
    },
    {
      "cell_type": "code",
      "metadata": {
        "ExecuteTime": {
          "end_time": "2021-05-19T20:26:34.147073Z",
          "start_time": "2021-05-19T20:26:34.071719Z"
        },
        "id": "iXgXgAS7wa8k",
        "outputId": "94da4a76-f746-473e-e18c-d3eeeaa00a10"
      },
      "source": [
        "''' Actually You can do this for all columns like this '''\n",
        "\n",
        "for each_col in df.columns:\n",
        "    print(each_col)\n",
        "    if len(df[each_col].unique()) < 20 :\n",
        "        print(df[each_col].value_counts())\n",
        "    else:\n",
        "        print(\"More than 20 unique values\")\n",
        "    print('-----')"
      ],
      "execution_count": null,
      "outputs": [
        {
          "output_type": "stream",
          "text": [
            "quarter\n",
            "Quarter1    360\n",
            "Quarter2    335\n",
            "Quarter4    248\n",
            "Quarter3    210\n",
            "Quarter5     44\n",
            "Name: quarter, dtype: int64\n",
            "-----\n",
            "department\n",
            "sweing        691\n",
            "finishing     257\n",
            "finishing     249\n",
            "Name: department, dtype: int64\n",
            "-----\n",
            "day\n",
            "Wednesday    208\n",
            "Sunday       203\n",
            "Tuesday      201\n",
            "Monday       199\n",
            "Thursday     199\n",
            "Saturday     187\n",
            "Name: day, dtype: int64\n",
            "-----\n",
            "team\n",
            "8     109\n",
            "2     109\n",
            "4     105\n",
            "1     105\n",
            "9     104\n",
            "10    100\n",
            "12     99\n",
            "7      96\n",
            "3      95\n",
            "6      94\n",
            "5      93\n",
            "11     88\n",
            "Name: team, dtype: int64\n",
            "-----\n",
            "targeted_productivity\n",
            "0.80    540\n",
            "0.70    242\n",
            "0.75    216\n",
            "0.65     63\n",
            "0.60     57\n",
            "0.50     49\n",
            "0.35     27\n",
            "0.40      2\n",
            "0.07      1\n",
            "Name: targeted_productivity, dtype: int64\n",
            "-----\n",
            "smv\n",
            "More than 20 unique values\n",
            "-----\n",
            "wip\n",
            "More than 20 unique values\n",
            "-----\n",
            "over_time\n",
            "More than 20 unique values\n",
            "-----\n",
            "incentive\n",
            "More than 20 unique values\n",
            "-----\n",
            "idle_time\n",
            "0.0      1179\n",
            "3.5         3\n",
            "4.0         2\n",
            "4.5         2\n",
            "8.0         2\n",
            "5.0         2\n",
            "2.0         2\n",
            "270.0       1\n",
            "150.0       1\n",
            "6.5         1\n",
            "300.0       1\n",
            "90.0        1\n",
            "Name: idle_time, dtype: int64\n",
            "-----\n",
            "idle_men\n",
            "0     1179\n",
            "30       3\n",
            "20       3\n",
            "15       3\n",
            "10       3\n",
            "35       2\n",
            "45       1\n",
            "40       1\n",
            "37       1\n",
            "25       1\n",
            "Name: idle_men, dtype: int64\n",
            "-----\n",
            "no_of_style_change\n",
            "0    1050\n",
            "1     114\n",
            "2      33\n",
            "Name: no_of_style_change, dtype: int64\n",
            "-----\n",
            "no_of_workers\n",
            "More than 20 unique values\n",
            "-----\n",
            "actual_productivity\n",
            "More than 20 unique values\n",
            "-----\n"
          ],
          "name": "stdout"
        }
      ]
    },
    {
      "cell_type": "markdown",
      "metadata": {
        "id": "mRZxfqcfwa8k"
      },
      "source": [
        "Comment:\n",
        "\n",
        "Do you think no_of_style_change be a categorical variable? I think this qualifies for a ordinal variable. So I would keep it label encoded. I don't want one-hot encoder."
      ]
    },
    {
      "cell_type": "code",
      "metadata": {
        "ExecuteTime": {
          "end_time": "2021-05-19T20:28:49.041381Z",
          "start_time": "2021-05-19T20:28:49.010445Z"
        },
        "colab": {
          "base_uri": "https://localhost:8080/"
        },
        "id": "TPwWL3gkR4kM",
        "outputId": "6fa27290-78cd-43f1-c391-67698fed487f"
      },
      "source": [
        "df['quarter'].value_counts()"
      ],
      "execution_count": null,
      "outputs": [
        {
          "output_type": "execute_result",
          "data": {
            "text/plain": [
              "Quarter1    360\n",
              "Quarter2    335\n",
              "Quarter4    248\n",
              "Quarter3    210\n",
              "Quarter5     44\n",
              "Name: quarter, dtype: int64"
            ]
          },
          "metadata": {
            "tags": []
          },
          "execution_count": 17
        }
      ]
    },
    {
      "cell_type": "markdown",
      "metadata": {
        "id": "6RjJuNruwa8k"
      },
      "source": [
        "There are 5 quarter as quarter 1, quarter 2, quarter 3, quarter 4, quarter 5, which are not evenly distributed"
      ]
    },
    {
      "cell_type": "code",
      "metadata": {
        "ExecuteTime": {
          "end_time": "2021-05-19T20:28:54.271061Z",
          "start_time": "2021-05-19T20:28:54.092002Z"
        },
        "id": "0wKUlWT2wa8l",
        "outputId": "92ab22d1-b878-411d-9379-1bfde9285104"
      },
      "source": [
        "pyplot.plot(df.index,df.quarter)"
      ],
      "execution_count": null,
      "outputs": [
        {
          "output_type": "execute_result",
          "data": {
            "text/plain": [
              "[<matplotlib.lines.Line2D at 0x1fb0983c760>]"
            ]
          },
          "metadata": {
            "tags": []
          },
          "execution_count": 18
        },
        {
          "output_type": "display_data",
          "data": {
            "image/png": "[encoded data removed]",
            "text/plain": [
              "<Figure size 432x288 with 1 Axes>"
            ]
          },
          "metadata": {
            "tags": [],
            "needs_background": "light"
          }
        }
      ]
    },
    {
      "cell_type": "markdown",
      "metadata": {
        "id": "8SmLe-baT_Xs"
      },
      "source": [
        "When we checked the dates it can be observed that there is a repeated pattern for all quarters with time except Quarter5. We need to look into Quarter5 deeply. There should be a reason for that exception "
      ]
    },
    {
      "cell_type": "code",
      "metadata": {
        "id": "2mMPlvjuwa8l"
      },
      "source": [
        "df_1=df[df['quarter']=='Quarter5']"
      ],
      "execution_count": null,
      "outputs": []
    },
    {
      "cell_type": "code",
      "metadata": {
        "id": "lLK-jWzSwa8l",
        "outputId": "e5864420-b076-4cea-bc74-f86f38a4c502"
      },
      "source": [
        "df_1.shape"
      ],
      "execution_count": null,
      "outputs": [
        {
          "output_type": "execute_result",
          "data": {
            "text/plain": [
              "(44, 14)"
            ]
          },
          "metadata": {
            "tags": []
          },
          "execution_count": 13
        }
      ]
    },
    {
      "cell_type": "code",
      "metadata": {
        "id": "0szQYT8kwa8l",
        "outputId": "78eaeed3-a40c-4292-96a6-fb89774aaac6"
      },
      "source": [
        "df_1.index"
      ],
      "execution_count": null,
      "outputs": [
        {
          "output_type": "execute_result",
          "data": {
            "text/plain": [
              "DatetimeIndex(['2015-01-29', '2015-01-29', '2015-01-29', '2015-01-29',\n",
              "               '2015-01-29', '2015-01-29', '2015-01-29', '2015-01-29',\n",
              "               '2015-01-29', '2015-01-29', '2015-01-29', '2015-01-29',\n",
              "               '2015-01-29', '2015-01-29', '2015-01-29', '2015-01-29',\n",
              "               '2015-01-29', '2015-01-29', '2015-01-29', '2015-01-29',\n",
              "               '2015-01-31', '2015-01-31', '2015-01-31', '2015-01-31',\n",
              "               '2015-01-31', '2015-01-31', '2015-01-31', '2015-01-31',\n",
              "               '2015-01-31', '2015-01-31', '2015-01-31', '2015-01-31',\n",
              "               '2015-01-31', '2015-01-31', '2015-01-31', '2015-01-31',\n",
              "               '2015-01-31', '2015-01-31', '2015-01-31', '2015-01-31',\n",
              "               '2015-01-31', '2015-01-31', '2015-01-31', '2015-01-31'],\n",
              "              dtype='datetime64[ns]', name='date', freq=None)"
            ]
          },
          "metadata": {
            "tags": []
          },
          "execution_count": 14
        }
      ]
    },
    {
      "cell_type": "markdown",
      "metadata": {
        "id": "K6fPNdmUwa8l"
      },
      "source": [
        "Quarter5 contains 2 days as 29th and 31th of January. "
      ]
    },
    {
      "cell_type": "markdown",
      "metadata": {
        "id": "fYwCZOm3R4kN"
      },
      "source": [
        "## 2-Department"
      ]
    },
    {
      "cell_type": "code",
      "metadata": {
        "colab": {
          "base_uri": "https://localhost:8080/"
        },
        "id": "NFWDBnWvR4kN",
        "outputId": "903dfab4-bdba-4983-f8a7-e817ff4af483"
      },
      "source": [
        "df.department.value_counts() "
      ],
      "execution_count": null,
      "outputs": [
        {
          "output_type": "execute_result",
          "data": {
            "text/plain": [
              "sweing        691\n",
              "finishing     257\n",
              "finishing     249\n",
              "Name: department, dtype: int64"
            ]
          },
          "metadata": {
            "tags": []
          },
          "execution_count": 15
        }
      ]
    },
    {
      "cell_type": "markdown",
      "metadata": {
        "id": "GP-PxlLuwa8m"
      },
      "source": [
        "There are 3 department namely sweing, finishing and finishing but we need to collect them into two group"
      ]
    },
    {
      "cell_type": "code",
      "metadata": {
        "colab": {
          "base_uri": "https://localhost:8080/"
        },
        "id": "3yjzXLIiR4kN",
        "outputId": "d07d0cd2-95a0-49bd-afb2-12a18015e16c"
      },
      "source": [
        "df=df.replace(['finishing '], ['finishing'])  \n",
        "df.department.value_counts()"
      ],
      "execution_count": null,
      "outputs": [
        {
          "output_type": "execute_result",
          "data": {
            "text/plain": [
              "sweing       691\n",
              "finishing    506\n",
              "Name: department, dtype: int64"
            ]
          },
          "metadata": {
            "tags": []
          },
          "execution_count": 16
        }
      ]
    },
    {
      "cell_type": "markdown",
      "metadata": {
        "id": "AilpYw8vUfw3"
      },
      "source": [
        "Comment-\n",
        "\n",
        "Better code - use .strip() on strings ;)"
      ]
    },
    {
      "cell_type": "markdown",
      "metadata": {
        "id": "Vfj-4UqDR4kN"
      },
      "source": [
        "## 3-Day"
      ]
    },
    {
      "cell_type": "code",
      "metadata": {
        "colab": {
          "base_uri": "https://localhost:8080/"
        },
        "id": "yh5lHXmGR4kO",
        "outputId": "df996531-6216-4397-ada0-58b25f12c876"
      },
      "source": [
        "df.day.value_counts() "
      ],
      "execution_count": null,
      "outputs": [
        {
          "output_type": "execute_result",
          "data": {
            "text/plain": [
              "Wednesday    208\n",
              "Sunday       203\n",
              "Tuesday      201\n",
              "Monday       199\n",
              "Thursday     199\n",
              "Saturday     187\n",
              "Name: day, dtype: int64"
            ]
          },
          "metadata": {
            "tags": []
          },
          "execution_count": 17
        }
      ]
    },
    {
      "cell_type": "markdown",
      "metadata": {
        "id": "1niiDlTiwa8n"
      },
      "source": [
        "Friday is not a working day"
      ]
    },
    {
      "cell_type": "markdown",
      "metadata": {
        "id": "TcogVMUpR4kK"
      },
      "source": [
        "# Numeric Features\n"
      ]
    },
    {
      "cell_type": "code",
      "metadata": {
        "id": "GOEhou8pwa8n",
        "outputId": "286c55b0-1b92-4a83-f4ab-f480a150f762"
      },
      "source": [
        "df.select_dtypes(include=np.number).columns.tolist()"
      ],
      "execution_count": null,
      "outputs": [
        {
          "output_type": "execute_result",
          "data": {
            "text/plain": [
              "['team',\n",
              " 'targeted_productivity',\n",
              " 'smv',\n",
              " 'wip',\n",
              " 'over_time',\n",
              " 'incentive',\n",
              " 'idle_time',\n",
              " 'idle_men',\n",
              " 'no_of_style_change',\n",
              " 'no_of_workers',\n",
              " 'actual_productivity']"
            ]
          },
          "metadata": {
            "tags": []
          },
          "execution_count": 18
        }
      ]
    },
    {
      "cell_type": "markdown",
      "metadata": {
        "id": "q9i60_6-wa8n"
      },
      "source": [
        "In this case we have 11 numeric feature as given above"
      ]
    },
    {
      "cell_type": "markdown",
      "metadata": {
        "id": "kJN_HMcIwa8n"
      },
      "source": [
        "## 1. Team"
      ]
    },
    {
      "cell_type": "code",
      "metadata": {
        "colab": {
          "base_uri": "https://localhost:8080/"
        },
        "id": "chxsCT9-R4kO",
        "outputId": "f2aa47d5-98c2-4265-92ec-ce25cb8afd1b"
      },
      "source": [
        "ax = sns.countplot(x = 'team', data = df, palette=[\"#3f3e6fd1\", \"#85c6a9\"])\n",
        "plt.xlabel('No of Teams')\n",
        "labels = (df['team'].value_counts())\n",
        "for i, v in enumerate(labels):\n",
        "    ax.text(i, v-40, str(v), horizontalalignment = 'center', size = 10, color = 'w', fontweight = 'bold')\n",
        "plt.show()\n"
      ],
      "execution_count": null,
      "outputs": [
        {
          "output_type": "display_data",
          "data": {
            "image/png": "[encoded data removed]",
            "text/plain": [
              "<Figure size 432x288 with 1 Axes>"
            ]
          },
          "metadata": {
            "tags": [],
            "needs_background": "light"
          }
        }
      ]
    },
    {
      "cell_type": "markdown",
      "metadata": {
        "id": "_xcwrX6xwa8o"
      },
      "source": [
        "There are 12 teams. Because It is highly desirable among the decision makers in the garments industry to track, analyse and predict the productivity performance of the working teams in their factories, my analsys will be on team basis."
      ]
    },
    {
      "cell_type": "markdown",
      "metadata": {
        "id": "Gg3BreGdwa8o"
      },
      "source": [
        "## 2. SMV\n",
        "\n",
        "Standard Minute Value, it is the allocated time for a task"
      ]
    },
    {
      "cell_type": "code",
      "metadata": {
        "id": "Kn5_XmDfwa8o",
        "outputId": "b02c2a09-38e8-44ac-e23f-969255370944"
      },
      "source": [
        "plt.figure(figsize=(25, 10))\n",
        "palette = \"Set3\"\n",
        "\n",
        "sns.boxplot(x=\"team\", y=\"smv\", hue=\"department\", data = df,\n",
        "     palette = palette, fliersize = 0)\n",
        "\n",
        "plt.title('smv distribution by team',fontsize= 14)\n",
        "plt.show()"
      ],
      "execution_count": null,
      "outputs": [
        {
          "output_type": "display_data",
          "data": {
            "image/png": "[encoded data removed]",
            "text/plain": [
              "<Figure size 1800x720 with 1 Axes>"
            ]
          },
          "metadata": {
            "tags": [],
            "needs_background": "light"
          }
        }
      ]
    },
    {
      "cell_type": "markdown",
      "metadata": {
        "id": "2_wheyORwa8o"
      },
      "source": [
        "When we look into smv boxplot on team basis with department seperation, it can be clearly seen that while there are fluctuations between teams in the sewing department, the finishing department has almost evenly distributed smv values for each team. "
      ]
    },
    {
      "cell_type": "code",
      "metadata": {
        "id": "3t76AuVCwa8o",
        "outputId": "378701ba-d15a-44c3-bc44-5e2221fa6dc4"
      },
      "source": [
        "sns.scatterplot(data=df, x=\"no_of_workers\", y=\"smv\", hue=\"department\")"
      ],
      "execution_count": null,
      "outputs": [
        {
          "output_type": "execute_result",
          "data": {
            "text/plain": [
              "<AxesSubplot:xlabel='no_of_workers', ylabel='smv'>"
            ]
          },
          "metadata": {
            "tags": []
          },
          "execution_count": 21
        },
        {
          "output_type": "display_data",
          "data": {
            "image/png": "[encoded data removed]",
            "text/plain": [
              "<Figure size 432x288 with 1 Axes>"
            ]
          },
          "metadata": {
            "tags": [],
            "needs_background": "light"
          }
        }
      ]
    },
    {
      "cell_type": "markdown",
      "metadata": {
        "id": "EStgBR7jwa8o"
      },
      "source": [
        "For the finising department smv doees not change with no_of_workers but "
      ]
    },
    {
      "cell_type": "code",
      "metadata": {
        "id": "8t2XCqkQwa8p",
        "outputId": "6264f50c-1616-4535-fb4f-6301cb198329"
      },
      "source": [
        "df.columns"
      ],
      "execution_count": null,
      "outputs": [
        {
          "output_type": "execute_result",
          "data": {
            "text/plain": [
              "Index(['quarter', 'department', 'day', 'team', 'targeted_productivity', 'smv',\n",
              "       'wip', 'over_time', 'incentive', 'idle_time', 'idle_men',\n",
              "       'no_of_style_change', 'no_of_workers', 'actual_productivity'],\n",
              "      dtype='object')"
            ]
          },
          "metadata": {
            "tags": []
          },
          "execution_count": 22
        }
      ]
    },
    {
      "cell_type": "code",
      "metadata": {
        "id": "YdSp22Jpwa8p",
        "outputId": "f14a0acd-f550-4662-b180-9ad5b48ecbdc"
      },
      "source": [
        "pyplot.plot(df.index,df.smv)"
      ],
      "execution_count": null,
      "outputs": [
        {
          "output_type": "execute_result",
          "data": {
            "text/plain": [
              "[<matplotlib.lines.Line2D at 0x1a2f6e3ee80>]"
            ]
          },
          "metadata": {
            "tags": []
          },
          "execution_count": 23
        },
        {
          "output_type": "display_data",
          "data": {
            "image/png": "[encoded data removed]",
            "text/plain": [
              "<Figure size 432x288 with 1 Axes>"
            ]
          },
          "metadata": {
            "tags": [],
            "needs_background": "light"
          }
        }
      ]
    },
    {
      "cell_type": "markdown",
      "metadata": {
        "id": "ws6J2i_Twa8p"
      },
      "source": [
        "## 3 WIP\n",
        "Work in progress. Includes the number of unfinished items for products"
      ]
    },
    {
      "cell_type": "code",
      "metadata": {
        "id": "8BTmGexzwa8p",
        "outputId": "c3c5826c-ba50-45fe-936e-ca6cb9d51672"
      },
      "source": [
        "df.wip.isnull().sum()"
      ],
      "execution_count": null,
      "outputs": [
        {
          "output_type": "execute_result",
          "data": {
            "text/plain": [
              "506"
            ]
          },
          "metadata": {
            "tags": []
          },
          "execution_count": 24
        }
      ]
    },
    {
      "cell_type": "markdown",
      "metadata": {
        "id": "5ruSJxMlwa8p"
      },
      "source": [
        "There are 506 null values in wip column"
      ]
    },
    {
      "cell_type": "code",
      "metadata": {
        "id": "Rq1lBYYmwa8p",
        "outputId": "f8be146f-5294-40e4-b69f-17aba89b432f"
      },
      "source": [
        "sns.boxplot(x='department',y='wip',data=df)"
      ],
      "execution_count": null,
      "outputs": [
        {
          "output_type": "execute_result",
          "data": {
            "text/plain": [
              "<AxesSubplot:xlabel='department', ylabel='wip'>"
            ]
          },
          "metadata": {
            "tags": []
          },
          "execution_count": 25
        },
        {
          "output_type": "display_data",
          "data": {
            "image/png": "[encoded data removed]",
            "text/plain": [
              "<Figure size 432x288 with 1 Axes>"
            ]
          },
          "metadata": {
            "tags": [],
            "needs_background": "light"
          }
        }
      ]
    },
    {
      "cell_type": "markdown",
      "metadata": {
        "id": "zty87KKiwa8q"
      },
      "source": [
        "All null values belongs to the finishing department. The finishing department needs to get a work from the sewing department. This result could mean that the finishing department has no work in progress while waiting for work from the sewing department. So we can replace the null values with zero "
      ]
    },
    {
      "cell_type": "code",
      "metadata": {
        "id": "BLLPTmP0R4kL"
      },
      "source": [
        "#df['wip'] = df['wip'].fillna(0)"
      ],
      "execution_count": null,
      "outputs": []
    },
    {
      "cell_type": "code",
      "metadata": {
        "id": "xAv6nIDQR4kL"
      },
      "source": [
        "#df.wip.isnull().sum()"
      ],
      "execution_count": null,
      "outputs": []
    },
    {
      "cell_type": "code",
      "metadata": {
        "id": "mXWu3k5Swa8q",
        "outputId": "d43d5e90-1485-4197-cde7-6f32babf5942"
      },
      "source": [
        "pyplot.plot(df.index,df.wip)\n",
        "plt.yticks(np.arange(0,30000,step=2500))"
      ],
      "execution_count": null,
      "outputs": [
        {
          "output_type": "execute_result",
          "data": {
            "text/plain": [
              "([<matplotlib.axis.YTick at 0x1a2f6ee7820>,\n",
              "  <matplotlib.axis.YTick at 0x1a2f6ee7400>,\n",
              "  <matplotlib.axis.YTick at 0x1a2f6ee42e0>,\n",
              "  <matplotlib.axis.YTick at 0x1a2f6f08d00>,\n",
              "  <matplotlib.axis.YTick at 0x1a2f6f12250>,\n",
              "  <matplotlib.axis.YTick at 0x1a2f6f12760>,\n",
              "  <matplotlib.axis.YTick at 0x1a2f6f12c70>,\n",
              "  <matplotlib.axis.YTick at 0x1a2f6f171c0>,\n",
              "  <matplotlib.axis.YTick at 0x1a2f6f176d0>,\n",
              "  <matplotlib.axis.YTick at 0x1a2f6f17be0>,\n",
              "  <matplotlib.axis.YTick at 0x1a2f6f17850>,\n",
              "  <matplotlib.axis.YTick at 0x1a2f6f128e0>],\n",
              " [Text(0, 0, ''),\n",
              "  Text(0, 0, ''),\n",
              "  Text(0, 0, ''),\n",
              "  Text(0, 0, ''),\n",
              "  Text(0, 0, ''),\n",
              "  Text(0, 0, ''),\n",
              "  Text(0, 0, ''),\n",
              "  Text(0, 0, ''),\n",
              "  Text(0, 0, ''),\n",
              "  Text(0, 0, ''),\n",
              "  Text(0, 0, ''),\n",
              "  Text(0, 0, '')])"
            ]
          },
          "metadata": {
            "tags": []
          },
          "execution_count": 28
        },
        {
          "output_type": "display_data",
          "data": {
            "image/png": "[encoded data removed]",
            "text/plain": [
              "<Figure size 432x288 with 1 Axes>"
            ]
          },
          "metadata": {
            "tags": [],
            "needs_background": "light"
          }
        }
      ]
    },
    {
      "cell_type": "code",
      "metadata": {
        "id": "RJHB8K5Qwa8r",
        "outputId": "7f7749ac-a7d2-4beb-e6cd-067e0ef74136"
      },
      "source": [
        "df[df['wip']>2500].shape"
      ],
      "execution_count": null,
      "outputs": [
        {
          "output_type": "execute_result",
          "data": {
            "text/plain": [
              "(10, 14)"
            ]
          },
          "metadata": {
            "tags": []
          },
          "execution_count": 29
        }
      ]
    },
    {
      "cell_type": "code",
      "metadata": {
        "id": "BmjROxRwwa8r",
        "outputId": "d330892f-c87c-4526-b906-929529542105"
      },
      "source": [
        "df[df['wip']>2500]"
      ],
      "execution_count": null,
      "outputs": [
        {
          "output_type": "execute_result",
          "data": {
            "text/html": [
              "<div>\n",
              "<style scoped>\n",
              "    .dataframe tbody tr th:only-of-type {\n",
              "        vertical-align: middle;\n",
              "    }\n",
              "\n",
              "    .dataframe tbody tr th {\n",
              "        vertical-align: top;\n",
              "    }\n",
              "\n",
              "    .dataframe thead th {\n",
              "        text-align: right;\n",
              "    }\n",
              "</style>\n",
              "<table border=\"1\" class=\"dataframe\">\n",
              "  <thead>\n",
              "    <tr style=\"text-align: right;\">\n",
              "      <th></th>\n",
              "      <th>quarter</th>\n",
              "      <th>department</th>\n",
              "      <th>day</th>\n",
              "      <th>team</th>\n",
              "      <th>targeted_productivity</th>\n",
              "      <th>smv</th>\n",
              "      <th>wip</th>\n",
              "      <th>over_time</th>\n",
              "      <th>incentive</th>\n",
              "      <th>idle_time</th>\n",
              "      <th>idle_men</th>\n",
              "      <th>no_of_style_change</th>\n",
              "      <th>no_of_workers</th>\n",
              "      <th>actual_productivity</th>\n",
              "    </tr>\n",
              "    <tr>\n",
              "      <th>date</th>\n",
              "      <th></th>\n",
              "      <th></th>\n",
              "      <th></th>\n",
              "      <th></th>\n",
              "      <th></th>\n",
              "      <th></th>\n",
              "      <th></th>\n",
              "      <th></th>\n",
              "      <th></th>\n",
              "      <th></th>\n",
              "      <th></th>\n",
              "      <th></th>\n",
              "      <th></th>\n",
              "      <th></th>\n",
              "    </tr>\n",
              "  </thead>\n",
              "  <tbody>\n",
              "    <tr>\n",
              "      <th>2015-02-02</th>\n",
              "      <td>Quarter1</td>\n",
              "      <td>sweing</td>\n",
              "      <td>Monday</td>\n",
              "      <td>1</td>\n",
              "      <td>0.80</td>\n",
              "      <td>22.94</td>\n",
              "      <td>16882.0</td>\n",
              "      <td>7020</td>\n",
              "      <td>113</td>\n",
              "      <td>0.0</td>\n",
              "      <td>0</td>\n",
              "      <td>0</td>\n",
              "      <td>58.5</td>\n",
              "      <td>1.000602</td>\n",
              "    </tr>\n",
              "    <tr>\n",
              "      <th>2015-02-02</th>\n",
              "      <td>Quarter1</td>\n",
              "      <td>sweing</td>\n",
              "      <td>Monday</td>\n",
              "      <td>2</td>\n",
              "      <td>0.80</td>\n",
              "      <td>22.52</td>\n",
              "      <td>21385.0</td>\n",
              "      <td>7020</td>\n",
              "      <td>88</td>\n",
              "      <td>0.0</td>\n",
              "      <td>0</td>\n",
              "      <td>0</td>\n",
              "      <td>58.5</td>\n",
              "      <td>0.900158</td>\n",
              "    </tr>\n",
              "    <tr>\n",
              "      <th>2015-02-02</th>\n",
              "      <td>Quarter1</td>\n",
              "      <td>sweing</td>\n",
              "      <td>Monday</td>\n",
              "      <td>3</td>\n",
              "      <td>0.80</td>\n",
              "      <td>22.52</td>\n",
              "      <td>21266.0</td>\n",
              "      <td>6840</td>\n",
              "      <td>70</td>\n",
              "      <td>0.0</td>\n",
              "      <td>0</td>\n",
              "      <td>0</td>\n",
              "      <td>57.0</td>\n",
              "      <td>0.900142</td>\n",
              "    </tr>\n",
              "    <tr>\n",
              "      <th>2015-02-02</th>\n",
              "      <td>Quarter1</td>\n",
              "      <td>sweing</td>\n",
              "      <td>Monday</td>\n",
              "      <td>10</td>\n",
              "      <td>0.80</td>\n",
              "      <td>22.52</td>\n",
              "      <td>21540.0</td>\n",
              "      <td>6720</td>\n",
              "      <td>88</td>\n",
              "      <td>0.0</td>\n",
              "      <td>0</td>\n",
              "      <td>0</td>\n",
              "      <td>56.0</td>\n",
              "      <td>0.900130</td>\n",
              "    </tr>\n",
              "    <tr>\n",
              "      <th>2015-02-02</th>\n",
              "      <td>Quarter1</td>\n",
              "      <td>sweing</td>\n",
              "      <td>Monday</td>\n",
              "      <td>12</td>\n",
              "      <td>0.80</td>\n",
              "      <td>15.26</td>\n",
              "      <td>12261.0</td>\n",
              "      <td>3600</td>\n",
              "      <td>63</td>\n",
              "      <td>0.0</td>\n",
              "      <td>0</td>\n",
              "      <td>0</td>\n",
              "      <td>35.0</td>\n",
              "      <td>0.800402</td>\n",
              "    </tr>\n",
              "    <tr>\n",
              "      <th>2015-02-02</th>\n",
              "      <td>Quarter1</td>\n",
              "      <td>sweing</td>\n",
              "      <td>Monday</td>\n",
              "      <td>4</td>\n",
              "      <td>0.80</td>\n",
              "      <td>22.52</td>\n",
              "      <td>23122.0</td>\n",
              "      <td>5940</td>\n",
              "      <td>50</td>\n",
              "      <td>0.0</td>\n",
              "      <td>0</td>\n",
              "      <td>0</td>\n",
              "      <td>56.5</td>\n",
              "      <td>0.800393</td>\n",
              "    </tr>\n",
              "    <tr>\n",
              "      <th>2015-02-02</th>\n",
              "      <td>Quarter1</td>\n",
              "      <td>sweing</td>\n",
              "      <td>Monday</td>\n",
              "      <td>9</td>\n",
              "      <td>0.75</td>\n",
              "      <td>29.12</td>\n",
              "      <td>8992.0</td>\n",
              "      <td>6960</td>\n",
              "      <td>55</td>\n",
              "      <td>0.0</td>\n",
              "      <td>0</td>\n",
              "      <td>0</td>\n",
              "      <td>58.0</td>\n",
              "      <td>0.799963</td>\n",
              "    </tr>\n",
              "    <tr>\n",
              "      <th>2015-02-02</th>\n",
              "      <td>Quarter1</td>\n",
              "      <td>sweing</td>\n",
              "      <td>Monday</td>\n",
              "      <td>11</td>\n",
              "      <td>0.70</td>\n",
              "      <td>20.55</td>\n",
              "      <td>9792.0</td>\n",
              "      <td>6480</td>\n",
              "      <td>60</td>\n",
              "      <td>0.0</td>\n",
              "      <td>0</td>\n",
              "      <td>0</td>\n",
              "      <td>54.0</td>\n",
              "      <td>0.700398</td>\n",
              "    </tr>\n",
              "    <tr>\n",
              "      <th>2015-02-02</th>\n",
              "      <td>Quarter1</td>\n",
              "      <td>sweing</td>\n",
              "      <td>Monday</td>\n",
              "      <td>6</td>\n",
              "      <td>0.70</td>\n",
              "      <td>18.79</td>\n",
              "      <td>2984.0</td>\n",
              "      <td>3960</td>\n",
              "      <td>30</td>\n",
              "      <td>0.0</td>\n",
              "      <td>0</td>\n",
              "      <td>0</td>\n",
              "      <td>33.0</td>\n",
              "      <td>0.700355</td>\n",
              "    </tr>\n",
              "    <tr>\n",
              "      <th>2015-02-02</th>\n",
              "      <td>Quarter1</td>\n",
              "      <td>sweing</td>\n",
              "      <td>Monday</td>\n",
              "      <td>7</td>\n",
              "      <td>0.70</td>\n",
              "      <td>24.26</td>\n",
              "      <td>2698.0</td>\n",
              "      <td>6720</td>\n",
              "      <td>0</td>\n",
              "      <td>0.0</td>\n",
              "      <td>0</td>\n",
              "      <td>0</td>\n",
              "      <td>56.0</td>\n",
              "      <td>0.295308</td>\n",
              "    </tr>\n",
              "  </tbody>\n",
              "</table>\n",
              "</div>"
            ],
            "text/plain": [
              "             quarter department     day  team  targeted_productivity    smv  \\\n",
              "date                                                                          \n",
              "2015-02-02  Quarter1     sweing  Monday     1                   0.80  22.94   \n",
              "2015-02-02  Quarter1     sweing  Monday     2                   0.80  22.52   \n",
              "2015-02-02  Quarter1     sweing  Monday     3                   0.80  22.52   \n",
              "2015-02-02  Quarter1     sweing  Monday    10                   0.80  22.52   \n",
              "2015-02-02  Quarter1     sweing  Monday    12                   0.80  15.26   \n",
              "2015-02-02  Quarter1     sweing  Monday     4                   0.80  22.52   \n",
              "2015-02-02  Quarter1     sweing  Monday     9                   0.75  29.12   \n",
              "2015-02-02  Quarter1     sweing  Monday    11                   0.70  20.55   \n",
              "2015-02-02  Quarter1     sweing  Monday     6                   0.70  18.79   \n",
              "2015-02-02  Quarter1     sweing  Monday     7                   0.70  24.26   \n",
              "\n",
              "                wip  over_time  incentive  idle_time  idle_men  \\\n",
              "date                                                             \n",
              "2015-02-02  16882.0       7020        113        0.0         0   \n",
              "2015-02-02  21385.0       7020         88        0.0         0   \n",
              "2015-02-02  21266.0       6840         70        0.0         0   \n",
              "2015-02-02  21540.0       6720         88        0.0         0   \n",
              "2015-02-02  12261.0       3600         63        0.0         0   \n",
              "2015-02-02  23122.0       5940         50        0.0         0   \n",
              "2015-02-02   8992.0       6960         55        0.0         0   \n",
              "2015-02-02   9792.0       6480         60        0.0         0   \n",
              "2015-02-02   2984.0       3960         30        0.0         0   \n",
              "2015-02-02   2698.0       6720          0        0.0         0   \n",
              "\n",
              "            no_of_style_change  no_of_workers  actual_productivity  \n",
              "date                                                                \n",
              "2015-02-02                   0           58.5             1.000602  \n",
              "2015-02-02                   0           58.5             0.900158  \n",
              "2015-02-02                   0           57.0             0.900142  \n",
              "2015-02-02                   0           56.0             0.900130  \n",
              "2015-02-02                   0           35.0             0.800402  \n",
              "2015-02-02                   0           56.5             0.800393  \n",
              "2015-02-02                   0           58.0             0.799963  \n",
              "2015-02-02                   0           54.0             0.700398  \n",
              "2015-02-02                   0           33.0             0.700355  \n",
              "2015-02-02                   0           56.0             0.295308  "
            ]
          },
          "metadata": {
            "tags": []
          },
          "execution_count": 30
        }
      ]
    },
    {
      "cell_type": "markdown",
      "metadata": {
        "id": "0PaZPli3wa8r"
      },
      "source": [
        "There are 10 rows with high wip values. Each of these records belongs to the sweating section in the 1st quarter and is on February 2nd."
      ]
    },
    {
      "cell_type": "markdown",
      "metadata": {
        "id": "rMT4lcrRwa8r"
      },
      "source": [
        "## 4 Over Time"
      ]
    },
    {
      "cell_type": "code",
      "metadata": {
        "colab": {
          "base_uri": "https://localhost:8080/"
        },
        "id": "FrsUINrpR4kR",
        "outputId": "dd3c78fa-49f6-4cf4-ec8a-6e49d4328d97"
      },
      "source": [
        "sns.boxplot(x='department',y='over_time',data=df)\n",
        "plt.show()"
      ],
      "execution_count": null,
      "outputs": [
        {
          "output_type": "display_data",
          "data": {
            "image/png": "[encoded data removed]",
            "text/plain": [
              "<Figure size 432x288 with 1 Axes>"
            ]
          },
          "metadata": {
            "tags": [],
            "needs_background": "light"
          }
        }
      ]
    },
    {
      "cell_type": "code",
      "metadata": {
        "id": "e_X497vFwa8r",
        "outputId": "731193a1-641f-4395-c8f9-7333fe96ee56"
      },
      "source": [
        "sns.boxplot(x='team',y='over_time',data=df)\n",
        "plt.show()"
      ],
      "execution_count": null,
      "outputs": [
        {
          "output_type": "display_data",
          "data": {
            "image/png": "[encoded data removed]",
            "text/plain": [
              "<Figure size 432x288 with 1 Axes>"
            ]
          },
          "metadata": {
            "tags": [],
            "needs_background": "light"
          }
        }
      ]
    },
    {
      "cell_type": "code",
      "metadata": {
        "id": "DDFKDM5Awa8s",
        "outputId": "46f9824b-ac51-4ed8-fde5-695c9981042b"
      },
      "source": [
        "over_time_by_team_department = df.groupby(['department', 'team']).median()['over_time']\n",
        "\n",
        "for team in range(1, 12):\n",
        "    for department in ['sweing', 'finishing']:\n",
        "        print('Median over_time of team {} {}s: {}'.format(team, department, over_time_by_team_department[department][team]))\n",
        "print('Median over_time of teams: {}'.format(df['over_time'].median()))"
      ],
      "execution_count": null,
      "outputs": [
        {
          "output_type": "stream",
          "text": [
            "Median over_time of team 1 sweings: 6960\n",
            "Median over_time of team 1 finishings: 1440\n",
            "Median over_time of team 2 sweings: 6840\n",
            "Median over_time of team 2 finishings: 1440\n",
            "Median over_time of team 3 sweings: 6840\n",
            "Median over_time of team 3 finishings: 1800\n",
            "Median over_time of team 4 sweings: 7020\n",
            "Median over_time of team 4 finishings: 1920\n",
            "Median over_time of team 5 sweings: 7080\n",
            "Median over_time of team 5 finishings: 1440\n",
            "Median over_time of team 6 sweings: 3960\n",
            "Median over_time of team 6 finishings: 960\n",
            "Median over_time of team 7 sweings: 6960\n",
            "Median over_time of team 7 finishings: 1440\n",
            "Median over_time of team 8 sweings: 6840\n",
            "Median over_time of team 8 finishings: 1440\n",
            "Median over_time of team 9 sweings: 6930\n",
            "Median over_time of team 9 finishings: 1140\n",
            "Median over_time of team 10 sweings: 6720\n",
            "Median over_time of team 10 finishings: 1440\n",
            "Median over_time of team 11 sweings: 3660\n",
            "Median over_time of team 11 finishings: 1440\n",
            "Median over_time of teams: 3960.0\n"
          ],
          "name": "stdout"
        }
      ]
    },
    {
      "cell_type": "code",
      "metadata": {
        "id": "3QQS5KIxwa8s",
        "outputId": "e5f90d22-06f7-491d-9f39-980b815b58a4"
      },
      "source": [
        "over_time_by_team_department.plot.bar()\n",
        "plt.show()"
      ],
      "execution_count": null,
      "outputs": [
        {
          "output_type": "display_data",
          "data": {
            "image/png": "[encoded data removed]",
            "text/plain": [
              "<Figure size 432x288 with 1 Axes>"
            ]
          },
          "metadata": {
            "tags": [],
            "needs_background": "light"
          }
        }
      ]
    },
    {
      "cell_type": "code",
      "metadata": {
        "id": "p12Tri9lwa8s",
        "outputId": "8d7bed30-6dda-4592-81ee-be8c29c9d0ba"
      },
      "source": [
        "over_time_by_team_department.head()"
      ],
      "execution_count": null,
      "outputs": [
        {
          "output_type": "execute_result",
          "data": {
            "text/plain": [
              "department  team\n",
              "finishing   1       1440\n",
              "            2       1440\n",
              "            3       1800\n",
              "            4       1920\n",
              "            5       1440\n",
              "Name: over_time, dtype: int64"
            ]
          },
          "metadata": {
            "tags": []
          },
          "execution_count": 35
        }
      ]
    },
    {
      "cell_type": "markdown",
      "metadata": {
        "id": "8MuQMmpVwa8s"
      },
      "source": [
        "Finishing department has relatively lower over_time values regarding sweing department. In sweing department team6, team11 and team12 have the lowest over_time values."
      ]
    },
    {
      "cell_type": "code",
      "metadata": {
        "id": "hMoMMaicwa8s",
        "outputId": "4a07ab7e-66ac-4c8a-c24e-f6e653c7aca9"
      },
      "source": [
        "pyplot.plot(df.index,df.over_time)"
      ],
      "execution_count": null,
      "outputs": [
        {
          "output_type": "execute_result",
          "data": {
            "text/plain": [
              "[<matplotlib.lines.Line2D at 0x1a2f6fd1eb0>]"
            ]
          },
          "metadata": {
            "tags": []
          },
          "execution_count": 36
        },
        {
          "output_type": "display_data",
          "data": {
            "image/png": "[encoded data removed]",
            "text/plain": [
              "<Figure size 432x288 with 1 Axes>"
            ]
          },
          "metadata": {
            "tags": [],
            "needs_background": "light"
          }
        }
      ]
    },
    {
      "cell_type": "code",
      "metadata": {
        "id": "TGJz8cOuwa8s",
        "outputId": "178093dc-db7d-4b2f-e3af-a778a7542754"
      },
      "source": [
        "df[df['over_time']>12000].shape"
      ],
      "execution_count": null,
      "outputs": [
        {
          "output_type": "execute_result",
          "data": {
            "text/plain": [
              "(8, 14)"
            ]
          },
          "metadata": {
            "tags": []
          },
          "execution_count": 37
        }
      ]
    },
    {
      "cell_type": "code",
      "metadata": {
        "id": "8Xv_ECt-wa8t",
        "outputId": "5059e0d9-d0c5-40fd-9e9b-42302da83f43"
      },
      "source": [
        "df[df['over_time']>12000]"
      ],
      "execution_count": null,
      "outputs": [
        {
          "output_type": "execute_result",
          "data": {
            "text/html": [
              "<div>\n",
              "<style scoped>\n",
              "    .dataframe tbody tr th:only-of-type {\n",
              "        vertical-align: middle;\n",
              "    }\n",
              "\n",
              "    .dataframe tbody tr th {\n",
              "        vertical-align: top;\n",
              "    }\n",
              "\n",
              "    .dataframe thead th {\n",
              "        text-align: right;\n",
              "    }\n",
              "</style>\n",
              "<table border=\"1\" class=\"dataframe\">\n",
              "  <thead>\n",
              "    <tr style=\"text-align: right;\">\n",
              "      <th></th>\n",
              "      <th>quarter</th>\n",
              "      <th>department</th>\n",
              "      <th>day</th>\n",
              "      <th>team</th>\n",
              "      <th>targeted_productivity</th>\n",
              "      <th>smv</th>\n",
              "      <th>wip</th>\n",
              "      <th>over_time</th>\n",
              "      <th>incentive</th>\n",
              "      <th>idle_time</th>\n",
              "      <th>idle_men</th>\n",
              "      <th>no_of_style_change</th>\n",
              "      <th>no_of_workers</th>\n",
              "      <th>actual_productivity</th>\n",
              "    </tr>\n",
              "    <tr>\n",
              "      <th>date</th>\n",
              "      <th></th>\n",
              "      <th></th>\n",
              "      <th></th>\n",
              "      <th></th>\n",
              "      <th></th>\n",
              "      <th></th>\n",
              "      <th></th>\n",
              "      <th></th>\n",
              "      <th></th>\n",
              "      <th></th>\n",
              "      <th></th>\n",
              "      <th></th>\n",
              "      <th></th>\n",
              "      <th></th>\n",
              "    </tr>\n",
              "  </thead>\n",
              "  <tbody>\n",
              "    <tr>\n",
              "      <th>2015-01-03</th>\n",
              "      <td>Quarter1</td>\n",
              "      <td>sweing</td>\n",
              "      <td>Saturday</td>\n",
              "      <td>4</td>\n",
              "      <td>0.70</td>\n",
              "      <td>23.69</td>\n",
              "      <td>544.0</td>\n",
              "      <td>13800</td>\n",
              "      <td>0</td>\n",
              "      <td>0.0</td>\n",
              "      <td>0</td>\n",
              "      <td>0</td>\n",
              "      <td>60.0</td>\n",
              "      <td>0.700134</td>\n",
              "    </tr>\n",
              "    <tr>\n",
              "      <th>2015-01-08</th>\n",
              "      <td>Quarter2</td>\n",
              "      <td>finishing</td>\n",
              "      <td>Thursday</td>\n",
              "      <td>4</td>\n",
              "      <td>0.80</td>\n",
              "      <td>3.94</td>\n",
              "      <td>NaN</td>\n",
              "      <td>12600</td>\n",
              "      <td>0</td>\n",
              "      <td>0.0</td>\n",
              "      <td>0</td>\n",
              "      <td>0</td>\n",
              "      <td>20.0</td>\n",
              "      <td>0.919905</td>\n",
              "    </tr>\n",
              "    <tr>\n",
              "      <th>2015-01-08</th>\n",
              "      <td>Quarter2</td>\n",
              "      <td>sweing</td>\n",
              "      <td>Thursday</td>\n",
              "      <td>12</td>\n",
              "      <td>0.80</td>\n",
              "      <td>11.61</td>\n",
              "      <td>548.0</td>\n",
              "      <td>15120</td>\n",
              "      <td>63</td>\n",
              "      <td>0.0</td>\n",
              "      <td>0</td>\n",
              "      <td>0</td>\n",
              "      <td>31.5</td>\n",
              "      <td>0.800107</td>\n",
              "    </tr>\n",
              "    <tr>\n",
              "      <th>2015-01-08</th>\n",
              "      <td>Quarter2</td>\n",
              "      <td>sweing</td>\n",
              "      <td>Thursday</td>\n",
              "      <td>6</td>\n",
              "      <td>0.80</td>\n",
              "      <td>11.41</td>\n",
              "      <td>411.0</td>\n",
              "      <td>14640</td>\n",
              "      <td>50</td>\n",
              "      <td>0.0</td>\n",
              "      <td>0</td>\n",
              "      <td>0</td>\n",
              "      <td>30.5</td>\n",
              "      <td>0.800025</td>\n",
              "    </tr>\n",
              "    <tr>\n",
              "      <th>2015-01-08</th>\n",
              "      <td>Quarter2</td>\n",
              "      <td>sweing</td>\n",
              "      <td>Thursday</td>\n",
              "      <td>11</td>\n",
              "      <td>0.35</td>\n",
              "      <td>12.52</td>\n",
              "      <td>287.0</td>\n",
              "      <td>25920</td>\n",
              "      <td>38</td>\n",
              "      <td>0.0</td>\n",
              "      <td>0</td>\n",
              "      <td>0</td>\n",
              "      <td>54.0</td>\n",
              "      <td>0.349951</td>\n",
              "    </tr>\n",
              "    <tr>\n",
              "      <th>2015-01-22</th>\n",
              "      <td>Quarter4</td>\n",
              "      <td>sweing</td>\n",
              "      <td>Thursday</td>\n",
              "      <td>1</td>\n",
              "      <td>0.70</td>\n",
              "      <td>22.94</td>\n",
              "      <td>1384.0</td>\n",
              "      <td>12180</td>\n",
              "      <td>63</td>\n",
              "      <td>0.0</td>\n",
              "      <td>0</td>\n",
              "      <td>0</td>\n",
              "      <td>57.0</td>\n",
              "      <td>0.750162</td>\n",
              "    </tr>\n",
              "    <tr>\n",
              "      <th>2015-01-22</th>\n",
              "      <td>Quarter4</td>\n",
              "      <td>finishing</td>\n",
              "      <td>Thursday</td>\n",
              "      <td>1</td>\n",
              "      <td>0.70</td>\n",
              "      <td>3.94</td>\n",
              "      <td>NaN</td>\n",
              "      <td>15000</td>\n",
              "      <td>0</td>\n",
              "      <td>0.0</td>\n",
              "      <td>0</td>\n",
              "      <td>0</td>\n",
              "      <td>25.0</td>\n",
              "      <td>0.649662</td>\n",
              "    </tr>\n",
              "    <tr>\n",
              "      <th>2015-01-22</th>\n",
              "      <td>Quarter4</td>\n",
              "      <td>finishing</td>\n",
              "      <td>Thursday</td>\n",
              "      <td>2</td>\n",
              "      <td>0.70</td>\n",
              "      <td>3.94</td>\n",
              "      <td>NaN</td>\n",
              "      <td>15000</td>\n",
              "      <td>0</td>\n",
              "      <td>0.0</td>\n",
              "      <td>0</td>\n",
              "      <td>0</td>\n",
              "      <td>25.0</td>\n",
              "      <td>0.649662</td>\n",
              "    </tr>\n",
              "  </tbody>\n",
              "</table>\n",
              "</div>"
            ],
            "text/plain": [
              "             quarter department       day  team  targeted_productivity    smv  \\\n",
              "date                                                                            \n",
              "2015-01-03  Quarter1     sweing  Saturday     4                   0.70  23.69   \n",
              "2015-01-08  Quarter2  finishing  Thursday     4                   0.80   3.94   \n",
              "2015-01-08  Quarter2     sweing  Thursday    12                   0.80  11.61   \n",
              "2015-01-08  Quarter2     sweing  Thursday     6                   0.80  11.41   \n",
              "2015-01-08  Quarter2     sweing  Thursday    11                   0.35  12.52   \n",
              "2015-01-22  Quarter4     sweing  Thursday     1                   0.70  22.94   \n",
              "2015-01-22  Quarter4  finishing  Thursday     1                   0.70   3.94   \n",
              "2015-01-22  Quarter4  finishing  Thursday     2                   0.70   3.94   \n",
              "\n",
              "               wip  over_time  incentive  idle_time  idle_men  \\\n",
              "date                                                            \n",
              "2015-01-03   544.0      13800          0        0.0         0   \n",
              "2015-01-08     NaN      12600          0        0.0         0   \n",
              "2015-01-08   548.0      15120         63        0.0         0   \n",
              "2015-01-08   411.0      14640         50        0.0         0   \n",
              "2015-01-08   287.0      25920         38        0.0         0   \n",
              "2015-01-22  1384.0      12180         63        0.0         0   \n",
              "2015-01-22     NaN      15000          0        0.0         0   \n",
              "2015-01-22     NaN      15000          0        0.0         0   \n",
              "\n",
              "            no_of_style_change  no_of_workers  actual_productivity  \n",
              "date                                                                \n",
              "2015-01-03                   0           60.0             0.700134  \n",
              "2015-01-08                   0           20.0             0.919905  \n",
              "2015-01-08                   0           31.5             0.800107  \n",
              "2015-01-08                   0           30.5             0.800025  \n",
              "2015-01-08                   0           54.0             0.349951  \n",
              "2015-01-22                   0           57.0             0.750162  \n",
              "2015-01-22                   0           25.0             0.649662  \n",
              "2015-01-22                   0           25.0             0.649662  "
            ]
          },
          "metadata": {
            "tags": []
          },
          "execution_count": 38
        }
      ]
    },
    {
      "cell_type": "markdown",
      "metadata": {
        "id": "ieK7lUVNwa8t"
      },
      "source": [
        "No significant relationship was found when peak values of over_time were observed with respect to time"
      ]
    },
    {
      "cell_type": "markdown",
      "metadata": {
        "id": "_CBP-ERwwa8t"
      },
      "source": [
        "## 5 Incentive"
      ]
    },
    {
      "cell_type": "code",
      "metadata": {
        "id": "nq6pCBSgwa8t",
        "outputId": "3bd4a1ea-e11b-48a8-b1a0-7fdc0ec01250"
      },
      "source": [
        "pyplot.plot(df.index,df.incentive)"
      ],
      "execution_count": null,
      "outputs": [
        {
          "output_type": "execute_result",
          "data": {
            "text/plain": [
              "[<matplotlib.lines.Line2D at 0x1a2f702f2b0>]"
            ]
          },
          "metadata": {
            "tags": []
          },
          "execution_count": 39
        },
        {
          "output_type": "display_data",
          "data": {
            "image/png": "[encoded data removed]",
            "text/plain": [
              "<Figure size 432x288 with 1 Axes>"
            ]
          },
          "metadata": {
            "tags": [],
            "needs_background": "light"
          }
        }
      ]
    },
    {
      "cell_type": "code",
      "metadata": {
        "id": "Vc42ZC6gwa8t",
        "outputId": "9d48f946-c154-4d32-cd73-d90fd015f12d"
      },
      "source": [
        "df[df['incentive']>150].shape"
      ],
      "execution_count": null,
      "outputs": [
        {
          "output_type": "execute_result",
          "data": {
            "text/plain": [
              "(10, 14)"
            ]
          },
          "metadata": {
            "tags": []
          },
          "execution_count": 40
        }
      ]
    },
    {
      "cell_type": "code",
      "metadata": {
        "id": "xBmiAz5Uwa8t",
        "outputId": "8b1f5450-a900-4504-9af1-dd4ef0833e38"
      },
      "source": [
        "df[df['incentive']>150]"
      ],
      "execution_count": null,
      "outputs": [
        {
          "output_type": "execute_result",
          "data": {
            "text/html": [
              "<div>\n",
              "<style scoped>\n",
              "    .dataframe tbody tr th:only-of-type {\n",
              "        vertical-align: middle;\n",
              "    }\n",
              "\n",
              "    .dataframe tbody tr th {\n",
              "        vertical-align: top;\n",
              "    }\n",
              "\n",
              "    .dataframe thead th {\n",
              "        text-align: right;\n",
              "    }\n",
              "</style>\n",
              "<table border=\"1\" class=\"dataframe\">\n",
              "  <thead>\n",
              "    <tr style=\"text-align: right;\">\n",
              "      <th></th>\n",
              "      <th>quarter</th>\n",
              "      <th>department</th>\n",
              "      <th>day</th>\n",
              "      <th>team</th>\n",
              "      <th>targeted_productivity</th>\n",
              "      <th>smv</th>\n",
              "      <th>wip</th>\n",
              "      <th>over_time</th>\n",
              "      <th>incentive</th>\n",
              "      <th>idle_time</th>\n",
              "      <th>idle_men</th>\n",
              "      <th>no_of_style_change</th>\n",
              "      <th>no_of_workers</th>\n",
              "      <th>actual_productivity</th>\n",
              "    </tr>\n",
              "    <tr>\n",
              "      <th>date</th>\n",
              "      <th></th>\n",
              "      <th></th>\n",
              "      <th></th>\n",
              "      <th></th>\n",
              "      <th></th>\n",
              "      <th></th>\n",
              "      <th></th>\n",
              "      <th></th>\n",
              "      <th></th>\n",
              "      <th></th>\n",
              "      <th></th>\n",
              "      <th></th>\n",
              "      <th></th>\n",
              "      <th></th>\n",
              "    </tr>\n",
              "  </thead>\n",
              "  <tbody>\n",
              "    <tr>\n",
              "      <th>2015-03-09</th>\n",
              "      <td>Quarter2</td>\n",
              "      <td>finishing</td>\n",
              "      <td>Monday</td>\n",
              "      <td>11</td>\n",
              "      <td>0.80</td>\n",
              "      <td>2.90</td>\n",
              "      <td>NaN</td>\n",
              "      <td>0</td>\n",
              "      <td>960</td>\n",
              "      <td>0.0</td>\n",
              "      <td>0</td>\n",
              "      <td>0</td>\n",
              "      <td>8.0</td>\n",
              "      <td>0.960625</td>\n",
              "    </tr>\n",
              "    <tr>\n",
              "      <th>2015-03-09</th>\n",
              "      <td>Quarter2</td>\n",
              "      <td>finishing</td>\n",
              "      <td>Monday</td>\n",
              "      <td>12</td>\n",
              "      <td>0.80</td>\n",
              "      <td>4.60</td>\n",
              "      <td>NaN</td>\n",
              "      <td>0</td>\n",
              "      <td>1080</td>\n",
              "      <td>0.0</td>\n",
              "      <td>0</td>\n",
              "      <td>0</td>\n",
              "      <td>9.0</td>\n",
              "      <td>0.902963</td>\n",
              "    </tr>\n",
              "    <tr>\n",
              "      <th>2015-03-09</th>\n",
              "      <td>Quarter2</td>\n",
              "      <td>finishing</td>\n",
              "      <td>Monday</td>\n",
              "      <td>5</td>\n",
              "      <td>0.60</td>\n",
              "      <td>3.94</td>\n",
              "      <td>NaN</td>\n",
              "      <td>0</td>\n",
              "      <td>2880</td>\n",
              "      <td>0.0</td>\n",
              "      <td>0</td>\n",
              "      <td>0</td>\n",
              "      <td>12.0</td>\n",
              "      <td>0.864343</td>\n",
              "    </tr>\n",
              "    <tr>\n",
              "      <th>2015-03-09</th>\n",
              "      <td>Quarter2</td>\n",
              "      <td>finishing</td>\n",
              "      <td>Monday</td>\n",
              "      <td>9</td>\n",
              "      <td>0.75</td>\n",
              "      <td>2.90</td>\n",
              "      <td>NaN</td>\n",
              "      <td>0</td>\n",
              "      <td>3600</td>\n",
              "      <td>0.0</td>\n",
              "      <td>0</td>\n",
              "      <td>0</td>\n",
              "      <td>15.0</td>\n",
              "      <td>0.841000</td>\n",
              "    </tr>\n",
              "    <tr>\n",
              "      <th>2015-03-09</th>\n",
              "      <td>Quarter2</td>\n",
              "      <td>finishing</td>\n",
              "      <td>Monday</td>\n",
              "      <td>3</td>\n",
              "      <td>0.80</td>\n",
              "      <td>4.60</td>\n",
              "      <td>NaN</td>\n",
              "      <td>0</td>\n",
              "      <td>1440</td>\n",
              "      <td>0.0</td>\n",
              "      <td>0</td>\n",
              "      <td>0</td>\n",
              "      <td>12.0</td>\n",
              "      <td>0.795417</td>\n",
              "    </tr>\n",
              "    <tr>\n",
              "      <th>2015-03-09</th>\n",
              "      <td>Quarter2</td>\n",
              "      <td>finishing</td>\n",
              "      <td>Monday</td>\n",
              "      <td>4</td>\n",
              "      <td>0.75</td>\n",
              "      <td>3.94</td>\n",
              "      <td>NaN</td>\n",
              "      <td>0</td>\n",
              "      <td>960</td>\n",
              "      <td>0.0</td>\n",
              "      <td>0</td>\n",
              "      <td>0</td>\n",
              "      <td>8.0</td>\n",
              "      <td>0.795388</td>\n",
              "    </tr>\n",
              "    <tr>\n",
              "      <th>2015-03-09</th>\n",
              "      <td>Quarter2</td>\n",
              "      <td>finishing</td>\n",
              "      <td>Monday</td>\n",
              "      <td>1</td>\n",
              "      <td>0.75</td>\n",
              "      <td>3.94</td>\n",
              "      <td>NaN</td>\n",
              "      <td>0</td>\n",
              "      <td>960</td>\n",
              "      <td>0.0</td>\n",
              "      <td>0</td>\n",
              "      <td>0</td>\n",
              "      <td>8.0</td>\n",
              "      <td>0.794567</td>\n",
              "    </tr>\n",
              "    <tr>\n",
              "      <th>2015-03-09</th>\n",
              "      <td>Quarter2</td>\n",
              "      <td>finishing</td>\n",
              "      <td>Monday</td>\n",
              "      <td>2</td>\n",
              "      <td>0.70</td>\n",
              "      <td>3.90</td>\n",
              "      <td>NaN</td>\n",
              "      <td>0</td>\n",
              "      <td>1200</td>\n",
              "      <td>0.0</td>\n",
              "      <td>0</td>\n",
              "      <td>0</td>\n",
              "      <td>10.0</td>\n",
              "      <td>0.682500</td>\n",
              "    </tr>\n",
              "    <tr>\n",
              "      <th>2015-03-09</th>\n",
              "      <td>Quarter2</td>\n",
              "      <td>finishing</td>\n",
              "      <td>Monday</td>\n",
              "      <td>10</td>\n",
              "      <td>0.70</td>\n",
              "      <td>2.90</td>\n",
              "      <td>NaN</td>\n",
              "      <td>0</td>\n",
              "      <td>960</td>\n",
              "      <td>0.0</td>\n",
              "      <td>0</td>\n",
              "      <td>0</td>\n",
              "      <td>8.0</td>\n",
              "      <td>0.477292</td>\n",
              "    </tr>\n",
              "    <tr>\n",
              "      <th>2015-03-09</th>\n",
              "      <td>Quarter2</td>\n",
              "      <td>finishing</td>\n",
              "      <td>Monday</td>\n",
              "      <td>8</td>\n",
              "      <td>0.65</td>\n",
              "      <td>3.90</td>\n",
              "      <td>NaN</td>\n",
              "      <td>0</td>\n",
              "      <td>960</td>\n",
              "      <td>0.0</td>\n",
              "      <td>0</td>\n",
              "      <td>0</td>\n",
              "      <td>8.0</td>\n",
              "      <td>0.264062</td>\n",
              "    </tr>\n",
              "  </tbody>\n",
              "</table>\n",
              "</div>"
            ],
            "text/plain": [
              "             quarter department     day  team  targeted_productivity   smv  \\\n",
              "date                                                                         \n",
              "2015-03-09  Quarter2  finishing  Monday    11                   0.80  2.90   \n",
              "2015-03-09  Quarter2  finishing  Monday    12                   0.80  4.60   \n",
              "2015-03-09  Quarter2  finishing  Monday     5                   0.60  3.94   \n",
              "2015-03-09  Quarter2  finishing  Monday     9                   0.75  2.90   \n",
              "2015-03-09  Quarter2  finishing  Monday     3                   0.80  4.60   \n",
              "2015-03-09  Quarter2  finishing  Monday     4                   0.75  3.94   \n",
              "2015-03-09  Quarter2  finishing  Monday     1                   0.75  3.94   \n",
              "2015-03-09  Quarter2  finishing  Monday     2                   0.70  3.90   \n",
              "2015-03-09  Quarter2  finishing  Monday    10                   0.70  2.90   \n",
              "2015-03-09  Quarter2  finishing  Monday     8                   0.65  3.90   \n",
              "\n",
              "            wip  over_time  incentive  idle_time  idle_men  \\\n",
              "date                                                         \n",
              "2015-03-09  NaN          0        960        0.0         0   \n",
              "2015-03-09  NaN          0       1080        0.0         0   \n",
              "2015-03-09  NaN          0       2880        0.0         0   \n",
              "2015-03-09  NaN          0       3600        0.0         0   \n",
              "2015-03-09  NaN          0       1440        0.0         0   \n",
              "2015-03-09  NaN          0        960        0.0         0   \n",
              "2015-03-09  NaN          0        960        0.0         0   \n",
              "2015-03-09  NaN          0       1200        0.0         0   \n",
              "2015-03-09  NaN          0        960        0.0         0   \n",
              "2015-03-09  NaN          0        960        0.0         0   \n",
              "\n",
              "            no_of_style_change  no_of_workers  actual_productivity  \n",
              "date                                                                \n",
              "2015-03-09                   0            8.0             0.960625  \n",
              "2015-03-09                   0            9.0             0.902963  \n",
              "2015-03-09                   0           12.0             0.864343  \n",
              "2015-03-09                   0           15.0             0.841000  \n",
              "2015-03-09                   0           12.0             0.795417  \n",
              "2015-03-09                   0            8.0             0.795388  \n",
              "2015-03-09                   0            8.0             0.794567  \n",
              "2015-03-09                   0           10.0             0.682500  \n",
              "2015-03-09                   0            8.0             0.477292  \n",
              "2015-03-09                   0            8.0             0.264062  "
            ]
          },
          "metadata": {
            "tags": []
          },
          "execution_count": 41
        }
      ]
    },
    {
      "cell_type": "markdown",
      "metadata": {
        "id": "9IjHCPG4wa8u"
      },
      "source": [
        "All of the highest incentive values belong to the finishing department on March 9, Quarter2."
      ]
    },
    {
      "cell_type": "markdown",
      "metadata": {
        "id": "DrHemViHwa8u"
      },
      "source": [
        "## 6 Idle Time"
      ]
    },
    {
      "cell_type": "code",
      "metadata": {
        "id": "PKFIKaQfwa8u",
        "outputId": "1fe260ad-0689-4c1a-9037-931ec0a8db8f"
      },
      "source": [
        "pyplot.plot(df.index,df.idle_time)"
      ],
      "execution_count": null,
      "outputs": [
        {
          "output_type": "execute_result",
          "data": {
            "text/plain": [
              "[<matplotlib.lines.Line2D at 0x1a2f70870d0>]"
            ]
          },
          "metadata": {
            "tags": []
          },
          "execution_count": 42
        },
        {
          "output_type": "display_data",
          "data": {
            "image/png": "[encoded data removed]",
            "text/plain": [
              "<Figure size 432x288 with 1 Axes>"
            ]
          },
          "metadata": {
            "tags": [],
            "needs_background": "light"
          }
        }
      ]
    },
    {
      "cell_type": "code",
      "metadata": {
        "id": "wK0rEAlTwa8u",
        "outputId": "d5f5071b-33bd-4b3a-c466-b26a4fb147f7"
      },
      "source": [
        "df[df['idle_time']>20].shape"
      ],
      "execution_count": null,
      "outputs": [
        {
          "output_type": "execute_result",
          "data": {
            "text/plain": [
              "(4, 14)"
            ]
          },
          "metadata": {
            "tags": []
          },
          "execution_count": 43
        }
      ]
    },
    {
      "cell_type": "code",
      "metadata": {
        "id": "p5jXCd6vwa8u",
        "outputId": "664ced6c-4912-4c2e-f5ef-042f3f1a3805"
      },
      "source": [
        "df[df['idle_time']>20]"
      ],
      "execution_count": null,
      "outputs": [
        {
          "output_type": "execute_result",
          "data": {
            "text/html": [
              "<div>\n",
              "<style scoped>\n",
              "    .dataframe tbody tr th:only-of-type {\n",
              "        vertical-align: middle;\n",
              "    }\n",
              "\n",
              "    .dataframe tbody tr th {\n",
              "        vertical-align: top;\n",
              "    }\n",
              "\n",
              "    .dataframe thead th {\n",
              "        text-align: right;\n",
              "    }\n",
              "</style>\n",
              "<table border=\"1\" class=\"dataframe\">\n",
              "  <thead>\n",
              "    <tr style=\"text-align: right;\">\n",
              "      <th></th>\n",
              "      <th>quarter</th>\n",
              "      <th>department</th>\n",
              "      <th>day</th>\n",
              "      <th>team</th>\n",
              "      <th>targeted_productivity</th>\n",
              "      <th>smv</th>\n",
              "      <th>wip</th>\n",
              "      <th>over_time</th>\n",
              "      <th>incentive</th>\n",
              "      <th>idle_time</th>\n",
              "      <th>idle_men</th>\n",
              "      <th>no_of_style_change</th>\n",
              "      <th>no_of_workers</th>\n",
              "      <th>actual_productivity</th>\n",
              "    </tr>\n",
              "    <tr>\n",
              "      <th>date</th>\n",
              "      <th></th>\n",
              "      <th></th>\n",
              "      <th></th>\n",
              "      <th></th>\n",
              "      <th></th>\n",
              "      <th></th>\n",
              "      <th></th>\n",
              "      <th></th>\n",
              "      <th></th>\n",
              "      <th></th>\n",
              "      <th></th>\n",
              "      <th></th>\n",
              "      <th></th>\n",
              "      <th></th>\n",
              "    </tr>\n",
              "  </thead>\n",
              "  <tbody>\n",
              "    <tr>\n",
              "      <th>2015-02-04</th>\n",
              "      <td>Quarter1</td>\n",
              "      <td>sweing</td>\n",
              "      <td>Wednesday</td>\n",
              "      <td>5</td>\n",
              "      <td>0.65</td>\n",
              "      <td>30.10</td>\n",
              "      <td>326.0</td>\n",
              "      <td>5820</td>\n",
              "      <td>0</td>\n",
              "      <td>90.0</td>\n",
              "      <td>10</td>\n",
              "      <td>0</td>\n",
              "      <td>58.5</td>\n",
              "      <td>0.650835</td>\n",
              "    </tr>\n",
              "    <tr>\n",
              "      <th>2015-02-04</th>\n",
              "      <td>Quarter1</td>\n",
              "      <td>sweing</td>\n",
              "      <td>Wednesday</td>\n",
              "      <td>4</td>\n",
              "      <td>0.35</td>\n",
              "      <td>30.10</td>\n",
              "      <td>287.0</td>\n",
              "      <td>6060</td>\n",
              "      <td>23</td>\n",
              "      <td>150.0</td>\n",
              "      <td>15</td>\n",
              "      <td>0</td>\n",
              "      <td>55.5</td>\n",
              "      <td>0.350706</td>\n",
              "    </tr>\n",
              "    <tr>\n",
              "      <th>2015-02-07</th>\n",
              "      <td>Quarter1</td>\n",
              "      <td>sweing</td>\n",
              "      <td>Saturday</td>\n",
              "      <td>7</td>\n",
              "      <td>0.70</td>\n",
              "      <td>24.26</td>\n",
              "      <td>658.0</td>\n",
              "      <td>6960</td>\n",
              "      <td>0</td>\n",
              "      <td>270.0</td>\n",
              "      <td>45</td>\n",
              "      <td>0</td>\n",
              "      <td>58.0</td>\n",
              "      <td>0.662270</td>\n",
              "    </tr>\n",
              "    <tr>\n",
              "      <th>2015-02-07</th>\n",
              "      <td>Quarter1</td>\n",
              "      <td>sweing</td>\n",
              "      <td>Saturday</td>\n",
              "      <td>8</td>\n",
              "      <td>0.70</td>\n",
              "      <td>24.26</td>\n",
              "      <td>652.0</td>\n",
              "      <td>6840</td>\n",
              "      <td>0</td>\n",
              "      <td>300.0</td>\n",
              "      <td>37</td>\n",
              "      <td>0</td>\n",
              "      <td>57.0</td>\n",
              "      <td>0.365319</td>\n",
              "    </tr>\n",
              "  </tbody>\n",
              "</table>\n",
              "</div>"
            ],
            "text/plain": [
              "             quarter department        day  team  targeted_productivity  \\\n",
              "date                                                                      \n",
              "2015-02-04  Quarter1     sweing  Wednesday     5                   0.65   \n",
              "2015-02-04  Quarter1     sweing  Wednesday     4                   0.35   \n",
              "2015-02-07  Quarter1     sweing   Saturday     7                   0.70   \n",
              "2015-02-07  Quarter1     sweing   Saturday     8                   0.70   \n",
              "\n",
              "              smv    wip  over_time  incentive  idle_time  idle_men  \\\n",
              "date                                                                  \n",
              "2015-02-04  30.10  326.0       5820          0       90.0        10   \n",
              "2015-02-04  30.10  287.0       6060         23      150.0        15   \n",
              "2015-02-07  24.26  658.0       6960          0      270.0        45   \n",
              "2015-02-07  24.26  652.0       6840          0      300.0        37   \n",
              "\n",
              "            no_of_style_change  no_of_workers  actual_productivity  \n",
              "date                                                                \n",
              "2015-02-04                   0           58.5             0.650835  \n",
              "2015-02-04                   0           55.5             0.350706  \n",
              "2015-02-07                   0           58.0             0.662270  \n",
              "2015-02-07                   0           57.0             0.365319  "
            ]
          },
          "metadata": {
            "tags": []
          },
          "execution_count": 44
        }
      ]
    },
    {
      "cell_type": "markdown",
      "metadata": {
        "id": "Vq7WR2P7wa8u"
      },
      "source": [
        "All of the highest idle_men values belong to the sweing department on February 4 and 7, Quarter1."
      ]
    },
    {
      "cell_type": "markdown",
      "metadata": {
        "id": "Q33BEThpwa8u"
      },
      "source": [
        "## 7 Idle Men"
      ]
    },
    {
      "cell_type": "code",
      "metadata": {
        "colab": {
          "base_uri": "https://localhost:8080/"
        },
        "id": "V6o_6fNER4kU",
        "outputId": "7831cb62-28b4-456b-f9c8-0dddd2acddad"
      },
      "source": [
        "pyplot.plot(df.index,df.idle_men)"
      ],
      "execution_count": null,
      "outputs": [
        {
          "output_type": "execute_result",
          "data": {
            "text/plain": [
              "[<matplotlib.lines.Line2D at 0x1a2f70dea00>]"
            ]
          },
          "metadata": {
            "tags": []
          },
          "execution_count": 45
        },
        {
          "output_type": "display_data",
          "data": {
            "image/png": "[encoded data removed]",
            "text/plain": [
              "<Figure size 432x288 with 1 Axes>"
            ]
          },
          "metadata": {
            "tags": [],
            "needs_background": "light"
          }
        }
      ]
    },
    {
      "cell_type": "code",
      "metadata": {
        "id": "8fzRV8E2wa8v",
        "outputId": "bfaab227-d2ec-4e65-c67d-af0bf79affb1"
      },
      "source": [
        "df[df['idle_men']>0].shape"
      ],
      "execution_count": null,
      "outputs": [
        {
          "output_type": "execute_result",
          "data": {
            "text/plain": [
              "(18, 14)"
            ]
          },
          "metadata": {
            "tags": []
          },
          "execution_count": 46
        }
      ]
    },
    {
      "cell_type": "code",
      "metadata": {
        "id": "Th4a3aZfwa8v",
        "outputId": "b60c86e6-807d-4f10-9855-d7092078b949"
      },
      "source": [
        "df[df['idle_men']>0]"
      ],
      "execution_count": null,
      "outputs": [
        {
          "output_type": "execute_result",
          "data": {
            "text/html": [
              "<div>\n",
              "<style scoped>\n",
              "    .dataframe tbody tr th:only-of-type {\n",
              "        vertical-align: middle;\n",
              "    }\n",
              "\n",
              "    .dataframe tbody tr th {\n",
              "        vertical-align: top;\n",
              "    }\n",
              "\n",
              "    .dataframe thead th {\n",
              "        text-align: right;\n",
              "    }\n",
              "</style>\n",
              "<table border=\"1\" class=\"dataframe\">\n",
              "  <thead>\n",
              "    <tr style=\"text-align: right;\">\n",
              "      <th></th>\n",
              "      <th>quarter</th>\n",
              "      <th>department</th>\n",
              "      <th>day</th>\n",
              "      <th>team</th>\n",
              "      <th>targeted_productivity</th>\n",
              "      <th>smv</th>\n",
              "      <th>wip</th>\n",
              "      <th>over_time</th>\n",
              "      <th>incentive</th>\n",
              "      <th>idle_time</th>\n",
              "      <th>idle_men</th>\n",
              "      <th>no_of_style_change</th>\n",
              "      <th>no_of_workers</th>\n",
              "      <th>actual_productivity</th>\n",
              "    </tr>\n",
              "    <tr>\n",
              "      <th>date</th>\n",
              "      <th></th>\n",
              "      <th></th>\n",
              "      <th></th>\n",
              "      <th></th>\n",
              "      <th></th>\n",
              "      <th></th>\n",
              "      <th></th>\n",
              "      <th></th>\n",
              "      <th></th>\n",
              "      <th></th>\n",
              "      <th></th>\n",
              "      <th></th>\n",
              "      <th></th>\n",
              "      <th></th>\n",
              "    </tr>\n",
              "  </thead>\n",
              "  <tbody>\n",
              "    <tr>\n",
              "      <th>2015-02-04</th>\n",
              "      <td>Quarter1</td>\n",
              "      <td>sweing</td>\n",
              "      <td>Wednesday</td>\n",
              "      <td>5</td>\n",
              "      <td>0.65</td>\n",
              "      <td>30.10</td>\n",
              "      <td>326.0</td>\n",
              "      <td>5820</td>\n",
              "      <td>0</td>\n",
              "      <td>90.0</td>\n",
              "      <td>10</td>\n",
              "      <td>0</td>\n",
              "      <td>58.5</td>\n",
              "      <td>0.650835</td>\n",
              "    </tr>\n",
              "    <tr>\n",
              "      <th>2015-02-04</th>\n",
              "      <td>Quarter1</td>\n",
              "      <td>sweing</td>\n",
              "      <td>Wednesday</td>\n",
              "      <td>4</td>\n",
              "      <td>0.35</td>\n",
              "      <td>30.10</td>\n",
              "      <td>287.0</td>\n",
              "      <td>6060</td>\n",
              "      <td>23</td>\n",
              "      <td>150.0</td>\n",
              "      <td>15</td>\n",
              "      <td>0</td>\n",
              "      <td>55.5</td>\n",
              "      <td>0.350706</td>\n",
              "    </tr>\n",
              "    <tr>\n",
              "      <th>2015-02-07</th>\n",
              "      <td>Quarter1</td>\n",
              "      <td>sweing</td>\n",
              "      <td>Saturday</td>\n",
              "      <td>7</td>\n",
              "      <td>0.70</td>\n",
              "      <td>24.26</td>\n",
              "      <td>658.0</td>\n",
              "      <td>6960</td>\n",
              "      <td>0</td>\n",
              "      <td>270.0</td>\n",
              "      <td>45</td>\n",
              "      <td>0</td>\n",
              "      <td>58.0</td>\n",
              "      <td>0.662270</td>\n",
              "    </tr>\n",
              "    <tr>\n",
              "      <th>2015-02-07</th>\n",
              "      <td>Quarter1</td>\n",
              "      <td>sweing</td>\n",
              "      <td>Saturday</td>\n",
              "      <td>8</td>\n",
              "      <td>0.70</td>\n",
              "      <td>24.26</td>\n",
              "      <td>652.0</td>\n",
              "      <td>6840</td>\n",
              "      <td>0</td>\n",
              "      <td>300.0</td>\n",
              "      <td>37</td>\n",
              "      <td>0</td>\n",
              "      <td>57.0</td>\n",
              "      <td>0.365319</td>\n",
              "    </tr>\n",
              "    <tr>\n",
              "      <th>2015-02-15</th>\n",
              "      <td>Quarter3</td>\n",
              "      <td>sweing</td>\n",
              "      <td>Sunday</td>\n",
              "      <td>8</td>\n",
              "      <td>0.70</td>\n",
              "      <td>30.10</td>\n",
              "      <td>507.0</td>\n",
              "      <td>5880</td>\n",
              "      <td>40</td>\n",
              "      <td>2.0</td>\n",
              "      <td>10</td>\n",
              "      <td>1</td>\n",
              "      <td>59.0</td>\n",
              "      <td>0.700573</td>\n",
              "    </tr>\n",
              "    <tr>\n",
              "      <th>2015-02-16</th>\n",
              "      <td>Quarter3</td>\n",
              "      <td>sweing</td>\n",
              "      <td>Monday</td>\n",
              "      <td>8</td>\n",
              "      <td>0.70</td>\n",
              "      <td>30.10</td>\n",
              "      <td>7.0</td>\n",
              "      <td>7080</td>\n",
              "      <td>27</td>\n",
              "      <td>2.0</td>\n",
              "      <td>10</td>\n",
              "      <td>2</td>\n",
              "      <td>59.0</td>\n",
              "      <td>0.621972</td>\n",
              "    </tr>\n",
              "    <tr>\n",
              "      <th>2015-02-17</th>\n",
              "      <td>Quarter3</td>\n",
              "      <td>sweing</td>\n",
              "      <td>Tuesday</td>\n",
              "      <td>8</td>\n",
              "      <td>0.60</td>\n",
              "      <td>29.40</td>\n",
              "      <td>179.0</td>\n",
              "      <td>0</td>\n",
              "      <td>23</td>\n",
              "      <td>5.0</td>\n",
              "      <td>30</td>\n",
              "      <td>2</td>\n",
              "      <td>58.0</td>\n",
              "      <td>0.600983</td>\n",
              "    </tr>\n",
              "    <tr>\n",
              "      <th>2015-02-17</th>\n",
              "      <td>Quarter3</td>\n",
              "      <td>sweing</td>\n",
              "      <td>Tuesday</td>\n",
              "      <td>10</td>\n",
              "      <td>0.65</td>\n",
              "      <td>18.22</td>\n",
              "      <td>741.0</td>\n",
              "      <td>0</td>\n",
              "      <td>0</td>\n",
              "      <td>8.0</td>\n",
              "      <td>35</td>\n",
              "      <td>1</td>\n",
              "      <td>49.0</td>\n",
              "      <td>0.302117</td>\n",
              "    </tr>\n",
              "    <tr>\n",
              "      <th>2015-02-18</th>\n",
              "      <td>Quarter3</td>\n",
              "      <td>sweing</td>\n",
              "      <td>Wednesday</td>\n",
              "      <td>10</td>\n",
              "      <td>0.70</td>\n",
              "      <td>19.68</td>\n",
              "      <td>1119.0</td>\n",
              "      <td>5640</td>\n",
              "      <td>0</td>\n",
              "      <td>8.0</td>\n",
              "      <td>35</td>\n",
              "      <td>1</td>\n",
              "      <td>47.0</td>\n",
              "      <td>0.303574</td>\n",
              "    </tr>\n",
              "    <tr>\n",
              "      <th>2015-02-18</th>\n",
              "      <td>Quarter3</td>\n",
              "      <td>sweing</td>\n",
              "      <td>Wednesday</td>\n",
              "      <td>8</td>\n",
              "      <td>0.65</td>\n",
              "      <td>29.40</td>\n",
              "      <td>962.0</td>\n",
              "      <td>4560</td>\n",
              "      <td>0</td>\n",
              "      <td>4.5</td>\n",
              "      <td>30</td>\n",
              "      <td>2</td>\n",
              "      <td>57.0</td>\n",
              "      <td>0.251399</td>\n",
              "    </tr>\n",
              "    <tr>\n",
              "      <th>2015-02-19</th>\n",
              "      <td>Quarter3</td>\n",
              "      <td>sweing</td>\n",
              "      <td>Thursday</td>\n",
              "      <td>5</td>\n",
              "      <td>0.80</td>\n",
              "      <td>30.10</td>\n",
              "      <td>276.0</td>\n",
              "      <td>600</td>\n",
              "      <td>63</td>\n",
              "      <td>3.5</td>\n",
              "      <td>15</td>\n",
              "      <td>0</td>\n",
              "      <td>59.5</td>\n",
              "      <td>0.799983</td>\n",
              "    </tr>\n",
              "    <tr>\n",
              "      <th>2015-02-19</th>\n",
              "      <td>Quarter3</td>\n",
              "      <td>sweing</td>\n",
              "      <td>Thursday</td>\n",
              "      <td>7</td>\n",
              "      <td>0.75</td>\n",
              "      <td>30.10</td>\n",
              "      <td>444.0</td>\n",
              "      <td>0</td>\n",
              "      <td>0</td>\n",
              "      <td>5.0</td>\n",
              "      <td>20</td>\n",
              "      <td>1</td>\n",
              "      <td>59.0</td>\n",
              "      <td>0.611141</td>\n",
              "    </tr>\n",
              "    <tr>\n",
              "      <th>2015-02-22</th>\n",
              "      <td>Quarter4</td>\n",
              "      <td>sweing</td>\n",
              "      <td>Sunday</td>\n",
              "      <td>7</td>\n",
              "      <td>0.75</td>\n",
              "      <td>30.10</td>\n",
              "      <td>627.0</td>\n",
              "      <td>6960</td>\n",
              "      <td>0</td>\n",
              "      <td>3.5</td>\n",
              "      <td>20</td>\n",
              "      <td>1</td>\n",
              "      <td>58.0</td>\n",
              "      <td>0.393549</td>\n",
              "    </tr>\n",
              "    <tr>\n",
              "      <th>2015-02-22</th>\n",
              "      <td>Quarter4</td>\n",
              "      <td>sweing</td>\n",
              "      <td>Sunday</td>\n",
              "      <td>5</td>\n",
              "      <td>0.80</td>\n",
              "      <td>30.10</td>\n",
              "      <td>450.0</td>\n",
              "      <td>5700</td>\n",
              "      <td>0</td>\n",
              "      <td>4.5</td>\n",
              "      <td>25</td>\n",
              "      <td>0</td>\n",
              "      <td>60.0</td>\n",
              "      <td>0.307501</td>\n",
              "    </tr>\n",
              "    <tr>\n",
              "      <th>2015-03-01</th>\n",
              "      <td>Quarter1</td>\n",
              "      <td>sweing</td>\n",
              "      <td>Sunday</td>\n",
              "      <td>11</td>\n",
              "      <td>0.80</td>\n",
              "      <td>11.61</td>\n",
              "      <td>347.0</td>\n",
              "      <td>0</td>\n",
              "      <td>50</td>\n",
              "      <td>4.0</td>\n",
              "      <td>20</td>\n",
              "      <td>0</td>\n",
              "      <td>57.0</td>\n",
              "      <td>0.682433</td>\n",
              "    </tr>\n",
              "    <tr>\n",
              "      <th>2015-03-01</th>\n",
              "      <td>Quarter1</td>\n",
              "      <td>sweing</td>\n",
              "      <td>Sunday</td>\n",
              "      <td>7</td>\n",
              "      <td>0.80</td>\n",
              "      <td>30.10</td>\n",
              "      <td>934.0</td>\n",
              "      <td>6960</td>\n",
              "      <td>0</td>\n",
              "      <td>3.5</td>\n",
              "      <td>15</td>\n",
              "      <td>0</td>\n",
              "      <td>58.0</td>\n",
              "      <td>0.579511</td>\n",
              "    </tr>\n",
              "    <tr>\n",
              "      <th>2015-03-03</th>\n",
              "      <td>Quarter1</td>\n",
              "      <td>sweing</td>\n",
              "      <td>Tuesday</td>\n",
              "      <td>2</td>\n",
              "      <td>0.40</td>\n",
              "      <td>15.28</td>\n",
              "      <td>157.0</td>\n",
              "      <td>5400</td>\n",
              "      <td>0</td>\n",
              "      <td>6.5</td>\n",
              "      <td>30</td>\n",
              "      <td>1</td>\n",
              "      <td>45.0</td>\n",
              "      <td>0.302770</td>\n",
              "    </tr>\n",
              "    <tr>\n",
              "      <th>2015-03-05</th>\n",
              "      <td>Quarter1</td>\n",
              "      <td>sweing</td>\n",
              "      <td>Thursday</td>\n",
              "      <td>7</td>\n",
              "      <td>0.80</td>\n",
              "      <td>30.10</td>\n",
              "      <td>834.0</td>\n",
              "      <td>1200</td>\n",
              "      <td>0</td>\n",
              "      <td>4.0</td>\n",
              "      <td>40</td>\n",
              "      <td>0</td>\n",
              "      <td>59.0</td>\n",
              "      <td>0.366054</td>\n",
              "    </tr>\n",
              "  </tbody>\n",
              "</table>\n",
              "</div>"
            ],
            "text/plain": [
              "             quarter department        day  team  targeted_productivity  \\\n",
              "date                                                                      \n",
              "2015-02-04  Quarter1     sweing  Wednesday     5                   0.65   \n",
              "2015-02-04  Quarter1     sweing  Wednesday     4                   0.35   \n",
              "2015-02-07  Quarter1     sweing   Saturday     7                   0.70   \n",
              "2015-02-07  Quarter1     sweing   Saturday     8                   0.70   \n",
              "2015-02-15  Quarter3     sweing     Sunday     8                   0.70   \n",
              "2015-02-16  Quarter3     sweing     Monday     8                   0.70   \n",
              "2015-02-17  Quarter3     sweing    Tuesday     8                   0.60   \n",
              "2015-02-17  Quarter3     sweing    Tuesday    10                   0.65   \n",
              "2015-02-18  Quarter3     sweing  Wednesday    10                   0.70   \n",
              "2015-02-18  Quarter3     sweing  Wednesday     8                   0.65   \n",
              "2015-02-19  Quarter3     sweing   Thursday     5                   0.80   \n",
              "2015-02-19  Quarter3     sweing   Thursday     7                   0.75   \n",
              "2015-02-22  Quarter4     sweing     Sunday     7                   0.75   \n",
              "2015-02-22  Quarter4     sweing     Sunday     5                   0.80   \n",
              "2015-03-01  Quarter1     sweing     Sunday    11                   0.80   \n",
              "2015-03-01  Quarter1     sweing     Sunday     7                   0.80   \n",
              "2015-03-03  Quarter1     sweing    Tuesday     2                   0.40   \n",
              "2015-03-05  Quarter1     sweing   Thursday     7                   0.80   \n",
              "\n",
              "              smv     wip  over_time  incentive  idle_time  idle_men  \\\n",
              "date                                                                   \n",
              "2015-02-04  30.10   326.0       5820          0       90.0        10   \n",
              "2015-02-04  30.10   287.0       6060         23      150.0        15   \n",
              "2015-02-07  24.26   658.0       6960          0      270.0        45   \n",
              "2015-02-07  24.26   652.0       6840          0      300.0        37   \n",
              "2015-02-15  30.10   507.0       5880         40        2.0        10   \n",
              "2015-02-16  30.10     7.0       7080         27        2.0        10   \n",
              "2015-02-17  29.40   179.0          0         23        5.0        30   \n",
              "2015-02-17  18.22   741.0          0          0        8.0        35   \n",
              "2015-02-18  19.68  1119.0       5640          0        8.0        35   \n",
              "2015-02-18  29.40   962.0       4560          0        4.5        30   \n",
              "2015-02-19  30.10   276.0        600         63        3.5        15   \n",
              "2015-02-19  30.10   444.0          0          0        5.0        20   \n",
              "2015-02-22  30.10   627.0       6960          0        3.5        20   \n",
              "2015-02-22  30.10   450.0       5700          0        4.5        25   \n",
              "2015-03-01  11.61   347.0          0         50        4.0        20   \n",
              "2015-03-01  30.10   934.0       6960          0        3.5        15   \n",
              "2015-03-03  15.28   157.0       5400          0        6.5        30   \n",
              "2015-03-05  30.10   834.0       1200          0        4.0        40   \n",
              "\n",
              "            no_of_style_change  no_of_workers  actual_productivity  \n",
              "date                                                                \n",
              "2015-02-04                   0           58.5             0.650835  \n",
              "2015-02-04                   0           55.5             0.350706  \n",
              "2015-02-07                   0           58.0             0.662270  \n",
              "2015-02-07                   0           57.0             0.365319  \n",
              "2015-02-15                   1           59.0             0.700573  \n",
              "2015-02-16                   2           59.0             0.621972  \n",
              "2015-02-17                   2           58.0             0.600983  \n",
              "2015-02-17                   1           49.0             0.302117  \n",
              "2015-02-18                   1           47.0             0.303574  \n",
              "2015-02-18                   2           57.0             0.251399  \n",
              "2015-02-19                   0           59.5             0.799983  \n",
              "2015-02-19                   1           59.0             0.611141  \n",
              "2015-02-22                   1           58.0             0.393549  \n",
              "2015-02-22                   0           60.0             0.307501  \n",
              "2015-03-01                   0           57.0             0.682433  \n",
              "2015-03-01                   0           58.0             0.579511  \n",
              "2015-03-03                   1           45.0             0.302770  \n",
              "2015-03-05                   0           59.0             0.366054  "
            ]
          },
          "metadata": {
            "tags": []
          },
          "execution_count": 47
        }
      ]
    },
    {
      "cell_type": "markdown",
      "metadata": {
        "id": "lDBwL9dCwa8v"
      },
      "source": [
        "All of the peak values of Idle_men belongs to sweing department"
      ]
    },
    {
      "cell_type": "markdown",
      "metadata": {
        "id": "CAu6so-6wa8v"
      },
      "source": [
        "## 8 No_of_style_change "
      ]
    },
    {
      "cell_type": "code",
      "metadata": {
        "colab": {
          "base_uri": "https://localhost:8080/"
        },
        "id": "e0v3Xc2KR4kU",
        "outputId": "d8555c37-a68f-476e-a5b3-7d4474f79f42"
      },
      "source": [
        "pyplot.plot(df.index,df.no_of_style_change)"
      ],
      "execution_count": null,
      "outputs": [
        {
          "output_type": "execute_result",
          "data": {
            "text/plain": [
              "[<matplotlib.lines.Line2D at 0x1a2f7135820>]"
            ]
          },
          "metadata": {
            "tags": []
          },
          "execution_count": 48
        },
        {
          "output_type": "display_data",
          "data": {
            "image/png": "[encoded data removed]",
            "text/plain": [
              "<Figure size 432x288 with 1 Axes>"
            ]
          },
          "metadata": {
            "tags": [],
            "needs_background": "light"
          }
        }
      ]
    },
    {
      "cell_type": "code",
      "metadata": {
        "id": "CmISEG8Lwa8w",
        "outputId": "7c313e20-16bb-4e09-9cce-6ea1cb42ea66"
      },
      "source": [
        "plt.figure(figsize=(15, 7))\n",
        "palette='gist_rainbow'\n",
        "\n",
        "plt.subplot(1, 2, 1)\n",
        "sns.countplot('no_of_style_change',hue='quarter',data=df)\n",
        "plt.xlabel('no_of_style_change')\n",
        "\n",
        "plt.subplot(1, 2, 2)\n",
        "sns.countplot('no_of_style_change',hue='department',data=df)\n",
        "plt.xlabel('no_of_style_change')\n",
        "\n",
        "plt.show()"
      ],
      "execution_count": null,
      "outputs": [
        {
          "output_type": "stream",
          "text": [
            "C:\\Users\\Workstation\\anaconda3\\lib\\site-packages\\seaborn\\_decorators.py:36: FutureWarning: Pass the following variable as a keyword arg: x. From version 0.12, the only valid positional argument will be `data`, and passing other arguments without an explicit keyword will result in an error or misinterpretation.\n",
            "  warnings.warn(\n",
            "C:\\Users\\Workstation\\anaconda3\\lib\\site-packages\\seaborn\\_decorators.py:36: FutureWarning: Pass the following variable as a keyword arg: x. From version 0.12, the only valid positional argument will be `data`, and passing other arguments without an explicit keyword will result in an error or misinterpretation.\n",
            "  warnings.warn(\n"
          ],
          "name": "stderr"
        },
        {
          "output_type": "display_data",
          "data": {
            "image/png": "[encoded data removed]",
            "text/plain": [
              "<Figure size 1080x504 with 2 Axes>"
            ]
          },
          "metadata": {
            "tags": [],
            "needs_background": "light"
          }
        }
      ]
    },
    {
      "cell_type": "markdown",
      "metadata": {
        "id": "PUSdiKG8wa8w"
      },
      "source": [
        "There is no no_of_style_change in Quarter5 and all of changes occured in the sweing department"
      ]
    },
    {
      "cell_type": "markdown",
      "metadata": {
        "id": "W4PC-Vwmwa8w"
      },
      "source": [
        "## 9 No_of_workers"
      ]
    },
    {
      "cell_type": "code",
      "metadata": {
        "id": "rhs7Yzmhwa8w",
        "outputId": "d5938ef7-fbcc-4daa-e423-4824203cf4ad"
      },
      "source": [
        "data = df.groupby(['department']).no_of_workers.sum()\n",
        "data.plot.pie(title=\"Employee rates by department\",autopct='%1.1f%%')\n",
        "plt.ylabel(None)\n",
        "plt.show()"
      ],
      "execution_count": null,
      "outputs": [
        {
          "output_type": "display_data",
          "data": {
            "image/png": "[encoded data removed]",
            "text/plain": [
              "<Figure size 432x288 with 1 Axes>"
            ]
          },
          "metadata": {
            "tags": []
          }
        }
      ]
    },
    {
      "cell_type": "markdown",
      "metadata": {
        "id": "eK9OTdFQwa8w"
      },
      "source": [
        "Employee rates in sweing and finishing departments are respectively %87.5 and %12.5."
      ]
    },
    {
      "cell_type": "markdown",
      "metadata": {
        "id": "H7TEO6dCwa8w"
      },
      "source": [
        "## 10 Actual Productivity"
      ]
    },
    {
      "cell_type": "code",
      "metadata": {
        "colab": {
          "base_uri": "https://localhost:8080/"
        },
        "id": "KQjmlbysR4kW",
        "outputId": "f07b04ea-a60f-4cce-a175-9bd75b708177"
      },
      "source": [
        "sns.distplot(df.actual_productivity)"
      ],
      "execution_count": null,
      "outputs": [
        {
          "output_type": "stream",
          "text": [
            "C:\\Users\\Workstation\\anaconda3\\lib\\site-packages\\seaborn\\distributions.py:2551: FutureWarning: `distplot` is a deprecated function and will be removed in a future version. Please adapt your code to use either `displot` (a figure-level function with similar flexibility) or `histplot` (an axes-level function for histograms).\n",
            "  warnings.warn(msg, FutureWarning)\n"
          ],
          "name": "stderr"
        },
        {
          "output_type": "execute_result",
          "data": {
            "text/plain": [
              "<AxesSubplot:xlabel='actual_productivity', ylabel='Density'>"
            ]
          },
          "metadata": {
            "tags": []
          },
          "execution_count": 51
        },
        {
          "output_type": "display_data",
          "data": {
            "image/png": "[encoded data removed]",
            "text/plain": [
              "<Figure size 432x288 with 1 Axes>"
            ]
          },
          "metadata": {
            "tags": [],
            "needs_background": "light"
          }
        }
      ]
    },
    {
      "cell_type": "code",
      "metadata": {
        "id": "hZtAGOQBwa8x",
        "outputId": "964a24e6-45cb-43eb-a3c5-95238660245d"
      },
      "source": [
        "pyplot.plot(df.index,df.actual_productivity)"
      ],
      "execution_count": null,
      "outputs": [
        {
          "output_type": "execute_result",
          "data": {
            "text/plain": [
              "[<matplotlib.lines.Line2D at 0x1a2f6d1c3a0>]"
            ]
          },
          "metadata": {
            "tags": []
          },
          "execution_count": 52
        },
        {
          "output_type": "display_data",
          "data": {
            "image/png": "[encoded data removed]",
            "text/plain": [
              "<Figure size 432x288 with 1 Axes>"
            ]
          },
          "metadata": {
            "tags": [],
            "needs_background": "light"
          }
        }
      ]
    },
    {
      "cell_type": "markdown",
      "metadata": {
        "id": "ihP8zd2Ywa8x"
      },
      "source": [
        "There is no an obvious pattern with respect to time in actual_productivity"
      ]
    },
    {
      "cell_type": "code",
      "metadata": {
        "id": "wx3C5c9Rwa8x",
        "outputId": "afb4228d-679e-4de8-b33c-ef6e53bdffc2"
      },
      "source": [
        "plt.figure(figsize=(25, 10))\n",
        "palette = \"Set3\"\n",
        "\n",
        "sns.boxplot(x = 'team', y = 'actual_productivity', data = df,\n",
        "     palette = palette,hue='department',fliersize = 0)\n",
        "plt.yticks(np.arange(0,1.2,step=0.3))\n",
        "plt.title('Actual_productivity distribution by team and department',fontsize= 14)\n",
        "plt.show()"
      ],
      "execution_count": null,
      "outputs": [
        {
          "output_type": "display_data",
          "data": {
            "image/png": "[encoded data removed]",
            "text/plain": [
              "<Figure size 1800x720 with 1 Axes>"
            ]
          },
          "metadata": {
            "tags": [],
            "needs_background": "light"
          }
        }
      ]
    },
    {
      "cell_type": "markdown",
      "metadata": {
        "id": "_I7ZXy9Bwa8x"
      },
      "source": [
        "## 11 Targeted Productivity"
      ]
    },
    {
      "cell_type": "code",
      "metadata": {
        "colab": {
          "base_uri": "https://localhost:8080/",
          "height": 353
        },
        "id": "I1v9Hz9AR4kP",
        "outputId": "d8c18125-1e86-4731-94b1-114226c74c32"
      },
      "source": [
        "sns.distplot(df['targeted_productivity'])"
      ],
      "execution_count": null,
      "outputs": [
        {
          "output_type": "stream",
          "text": [
            "C:\\Users\\Workstation\\anaconda3\\lib\\site-packages\\seaborn\\distributions.py:2551: FutureWarning: `distplot` is a deprecated function and will be removed in a future version. Please adapt your code to use either `displot` (a figure-level function with similar flexibility) or `histplot` (an axes-level function for histograms).\n",
            "  warnings.warn(msg, FutureWarning)\n"
          ],
          "name": "stderr"
        },
        {
          "output_type": "execute_result",
          "data": {
            "text/plain": [
              "<AxesSubplot:xlabel='targeted_productivity', ylabel='Density'>"
            ]
          },
          "metadata": {
            "tags": []
          },
          "execution_count": 54
        },
        {
          "output_type": "display_data",
          "data": {
            "image/png": "[encoded data removed]",
            "text/plain": [
              "<Figure size 432x288 with 1 Axes>"
            ]
          },
          "metadata": {
            "tags": [],
            "needs_background": "light"
          }
        }
      ]
    },
    {
      "cell_type": "code",
      "metadata": {
        "colab": {
          "base_uri": "https://localhost:8080/"
        },
        "id": "ZRelDpXKR4kP",
        "outputId": "6fc0e623-476e-465e-cf34-42cca781fb67"
      },
      "source": [
        "df.targeted_productivity.value_counts()\n",
        "# can be 0.07 a targeted productivity value? How can I identify if it is outlier? "
      ],
      "execution_count": null,
      "outputs": [
        {
          "output_type": "execute_result",
          "data": {
            "text/plain": [
              "0.80    540\n",
              "0.70    242\n",
              "0.75    216\n",
              "0.65     63\n",
              "0.60     57\n",
              "0.50     49\n",
              "0.35     27\n",
              "0.40      2\n",
              "0.07      1\n",
              "Name: targeted_productivity, dtype: int64"
            ]
          },
          "metadata": {
            "tags": []
          },
          "execution_count": 55
        }
      ]
    },
    {
      "cell_type": "markdown",
      "metadata": {
        "id": "vHHv-ABpwa8y"
      },
      "source": [
        "When we checked the dates it can be observed that there is a repeated pattern for all quarters with time except Quarter5. We need to look into Quarter5 deeply. There should be a reason for that exception "
      ]
    },
    {
      "cell_type": "code",
      "metadata": {
        "id": "YFZxP5hEwa8y",
        "outputId": "415f2c15-4ba6-4119-8ae8-89c726a5db76"
      },
      "source": [
        "plt.figure(figsize=(25, 10))\n",
        "palette = \"Set3\"\n",
        "\n",
        "sns.boxplot(x = 'team', y = 'targeted_productivity', data = df,\n",
        "     palette = palette,hue='department',fliersize = 0)\n",
        "plt.yticks(np.arange(0,1.2,step=0.3))\n",
        "plt.title('Targeted_productivity distribution by team and department',fontsize= 14)\n",
        "plt.show()"
      ],
      "execution_count": null,
      "outputs": [
        {
          "output_type": "display_data",
          "data": {
            "image/png": "[encoded data removed]",
            "text/plain": [
              "<Figure size 1800x720 with 1 Axes>"
            ]
          },
          "metadata": {
            "tags": [],
            "needs_background": "light"
          }
        }
      ]
    },
    {
      "cell_type": "markdown",
      "metadata": {
        "id": "qFXW2ybeR4kX"
      },
      "source": [
        "# Actual vs Targeted Productivity"
      ]
    },
    {
      "cell_type": "code",
      "metadata": {
        "colab": {
          "base_uri": "https://localhost:8080/"
        },
        "id": "TQgrO5CVR4kY",
        "outputId": "df9829f6-e330-4f3f-c9f8-1da4fdcce648"
      },
      "source": [
        "plt.figure(figsize=(25, 10))\n",
        "palette = \"Set3\"\n",
        "\n",
        "sns.boxplot(x = 'team', y = df.targeted_productivity-df.actual_productivity, data = df,\n",
        "     palette = palette,hue='department',fliersize = 0)\n",
        "\n",
        "plt.title('Difference distribution between targeted_productivity and actual_productivity by team and department',fontsize= 14)\n",
        "plt.show()"
      ],
      "execution_count": null,
      "outputs": [
        {
          "output_type": "display_data",
          "data": {
            "image/png": "[encoded data removed]",
            "text/plain": [
              "<Figure size 1800x720 with 1 Axes>"
            ]
          },
          "metadata": {
            "tags": [],
            "needs_background": "light"
          }
        }
      ]
    },
    {
      "cell_type": "markdown",
      "metadata": {
        "id": "stp9QXHfR4kY"
      },
      "source": [
        "There are both negative and positive variations from targeted_productivity on team and department basis. "
      ]
    },
    {
      "cell_type": "markdown",
      "metadata": {
        "id": "lOwC7BL8wa8y"
      },
      "source": [
        "# EDA"
      ]
    },
    {
      "cell_type": "markdown",
      "metadata": {
        "id": "X956PiwCR4kZ"
      },
      "source": [
        "##  Correlation Heatmap"
      ]
    },
    {
      "cell_type": "code",
      "metadata": {
        "id": "70ExzDh0R4kZ"
      },
      "source": [
        "corr=df.corr()\n",
        "mask=np.zeros(corr.shape,dtype=bool)\n",
        "mask[np.triu_indices(len(mask))]=True\n"
      ],
      "execution_count": null,
      "outputs": []
    },
    {
      "cell_type": "code",
      "metadata": {
        "colab": {
          "base_uri": "https://localhost:8080/"
        },
        "id": "RF4XYkbHR4kZ",
        "outputId": "70d554a8-d7d9-46e7-b187-63d240f9cc35"
      },
      "source": [
        "plt.figure(figsize=(10,10))\n",
        "sns.heatmap(corr,annot=True,vmin=-1,vmax=1,cmap='Spectral',square=True,mask=mask,linecolor='white',linewidths=1)"
      ],
      "execution_count": null,
      "outputs": [
        {
          "output_type": "execute_result",
          "data": {
            "text/plain": [
              "<AxesSubplot:>"
            ]
          },
          "metadata": {
            "tags": []
          },
          "execution_count": 59
        },
        {
          "output_type": "display_data",
          "data": {
            "image/png": "[encoded data removed]",
            "text/plain": [
              "<Figure size 720x720 with 2 Axes>"
            ]
          },
          "metadata": {
            "tags": [],
            "needs_background": "light"
          }
        }
      ]
    },
    {
      "cell_type": "markdown",
      "metadata": {
        "id": "btzVKkbHwa8z"
      },
      "source": [
        "**Highest Positive Correlations:**\n",
        "\n",
        "* No_of workers and smv (0.91)\n",
        "* No_of workers and over_time (0.73)\n",
        "* Over_time and smv (0.67)\n",
        "* Idle_men and Idle_time (0.56)\n",
        "\n",
        "\n",
        "**Positive Correlations:**\n",
        "\n",
        "* No_of workers and no_of_style_change(0.33)\n",
        "* No_of_style_changehas and smv  (0.32)\n",
        "\n",
        "There isnt any obvious negative correlation between features"
      ]
    },
    {
      "cell_type": "markdown",
      "metadata": {
        "id": "IRkfFXUFR4kb",
        "outputId": "9ccbe40c-574a-43cb-b264-38e603fd2e23"
      },
      "source": [
        "## Filling in missing values of wip column"
      ]
    },
    {
      "cell_type": "code",
      "metadata": {
        "id": "tE8UcVVXwa80",
        "outputId": "cd093591-fba5-4135-dc08-ce31b687747e"
      },
      "source": [
        "df['wip'].isnull().sum()"
      ],
      "execution_count": null,
      "outputs": [
        {
          "output_type": "execute_result",
          "data": {
            "text/plain": [
              "506"
            ]
          },
          "metadata": {
            "tags": []
          },
          "execution_count": 64
        }
      ]
    },
    {
      "cell_type": "code",
      "metadata": {
        "id": "irI_dHxWwa80"
      },
      "source": [
        "df['wip'].fillna(0,inplace=True)"
      ],
      "execution_count": null,
      "outputs": []
    },
    {
      "cell_type": "code",
      "metadata": {
        "id": "8f4hKqtNwa80",
        "outputId": "a68b7109-43ef-4dd0-d1da-7f9e33b74f9b"
      },
      "source": [
        "df['wip'].isnull().sum()"
      ],
      "execution_count": null,
      "outputs": [
        {
          "output_type": "execute_result",
          "data": {
            "text/plain": [
              "0"
            ]
          },
          "metadata": {
            "tags": []
          },
          "execution_count": 66
        }
      ]
    },
    {
      "cell_type": "markdown",
      "metadata": {
        "id": "FvjMyHYQwa80"
      },
      "source": [
        "## One-hot encoding\n"
      ]
    },
    {
      "cell_type": "markdown",
      "metadata": {
        "id": "cm_o9g8Cwa80"
      },
      "source": [
        "Some columns have identified that may be useful for predicting productivity range:\n",
        "\n",
        "* quarter\n",
        "* department\n",
        "* day\n",
        "* team\n",
        "* no_of_style_change\n",
        "\n",
        "\n",
        "Before we build our model, we need to prepare these columns for machine learning."
      ]
    },
    {
      "cell_type": "code",
      "metadata": {
        "id": "rlQA5anhwa80",
        "outputId": "3131f4e0-3065-4f57-ca0b-a8ae9115ad41"
      },
      "source": [
        "def create_dummies(df,column_name):\n",
        "    dummies = pd.get_dummies(df[column_name],prefix=column_name)\n",
        "    df = pd.concat([df,dummies],axis=1)\n",
        "    return df\n",
        "\n",
        "df = create_dummies(df,\"quarter\")\n",
        "df = create_dummies(df,\"department\")\n",
        "df = create_dummies(df,\"day\")\n",
        "df = create_dummies(df,\"team\")\n",
        "df = create_dummies(df,\"no_of_style_change\")\n",
        "df.columns"
      ],
      "execution_count": null,
      "outputs": [
        {
          "output_type": "execute_result",
          "data": {
            "text/plain": [
              "Index(['quarter', 'department', 'day', 'team', 'targeted_productivity', 'smv',\n",
              "       'wip', 'over_time', 'incentive', 'idle_time', 'idle_men',\n",
              "       'no_of_style_change', 'no_of_workers', 'actual_productivity',\n",
              "       'quarter_Quarter1', 'quarter_Quarter2', 'quarter_Quarter3',\n",
              "       'quarter_Quarter4', 'quarter_Quarter5', 'department_finishing',\n",
              "       'department_sweing', 'day_Monday', 'day_Saturday', 'day_Sunday',\n",
              "       'day_Thursday', 'day_Tuesday', 'day_Wednesday', 'team_1', 'team_2',\n",
              "       'team_3', 'team_4', 'team_5', 'team_6', 'team_7', 'team_8', 'team_9',\n",
              "       'team_10', 'team_11', 'team_12', 'no_of_style_change_0',\n",
              "       'no_of_style_change_1', 'no_of_style_change_2'],\n",
              "      dtype='object')"
            ]
          },
          "metadata": {
            "tags": []
          },
          "execution_count": 67
        }
      ]
    },
    {
      "cell_type": "markdown",
      "metadata": {
        "id": "_wdk_Hmhwa81"
      },
      "source": [
        "## Creating Target_Label for productivity"
      ]
    },
    {
      "cell_type": "code",
      "metadata": {
        "id": "K_6FfKNTwa81",
        "outputId": "05952626-779e-44c3-e504-4e259eb4eebf"
      },
      "source": [
        "df['diff']=df.actual_productivity-df.targeted_productivity\n",
        "df.columns"
      ],
      "execution_count": null,
      "outputs": [
        {
          "output_type": "execute_result",
          "data": {
            "text/plain": [
              "Index(['quarter', 'department', 'day', 'team', 'targeted_productivity', 'smv',\n",
              "       'wip', 'over_time', 'incentive', 'idle_time', 'idle_men',\n",
              "       'no_of_style_change', 'no_of_workers', 'actual_productivity',\n",
              "       'quarter_Quarter1', 'quarter_Quarter2', 'quarter_Quarter3',\n",
              "       'quarter_Quarter4', 'quarter_Quarter5', 'department_finishing',\n",
              "       'department_sweing', 'day_Monday', 'day_Saturday', 'day_Sunday',\n",
              "       'day_Thursday', 'day_Tuesday', 'day_Wednesday', 'team_1', 'team_2',\n",
              "       'team_3', 'team_4', 'team_5', 'team_6', 'team_7', 'team_8', 'team_9',\n",
              "       'team_10', 'team_11', 'team_12', 'no_of_style_change_0',\n",
              "       'no_of_style_change_1', 'no_of_style_change_2', 'diff'],\n",
              "      dtype='object')"
            ]
          },
          "metadata": {
            "tags": []
          },
          "execution_count": 68
        }
      ]
    },
    {
      "cell_type": "code",
      "metadata": {
        "id": "cR-Tdtfdwa81",
        "outputId": "b65845a2-9108-4f39-93e5-722e9658f369"
      },
      "source": [
        "df['diff'].describe()"
      ],
      "execution_count": null,
      "outputs": [
        {
          "output_type": "execute_result",
          "data": {
            "text/plain": [
              "count    1197.000000\n",
              "mean        0.005459\n",
              "std         0.160082\n",
              "min        -0.561958\n",
              "25%        -0.009556\n",
              "50%         0.000505\n",
              "75%         0.099111\n",
              "max         0.644375\n",
              "Name: diff, dtype: float64"
            ]
          },
          "metadata": {
            "tags": []
          },
          "execution_count": 69
        }
      ]
    },
    {
      "cell_type": "code",
      "metadata": {
        "id": "lieBmFqOwa81",
        "outputId": "872246c9-7eb6-4cb7-d031-a5f209f36a32"
      },
      "source": [
        "df['Target_label']=np.nan\n",
        "df.head()\n",
        "df.loc[df['diff']<0,'Target_label'] = -1\n",
        "df.loc[(df['diff']==0), 'Target_label'] = 0\n",
        "df.loc[df['diff']>0, 'Target_label'] = 1\n",
        "df.head()"
      ],
      "execution_count": null,
      "outputs": [
        {
          "output_type": "execute_result",
          "data": {
            "text/html": [
              "<div>\n",
              "<style scoped>\n",
              "    .dataframe tbody tr th:only-of-type {\n",
              "        vertical-align: middle;\n",
              "    }\n",
              "\n",
              "    .dataframe tbody tr th {\n",
              "        vertical-align: top;\n",
              "    }\n",
              "\n",
              "    .dataframe thead th {\n",
              "        text-align: right;\n",
              "    }\n",
              "</style>\n",
              "<table border=\"1\" class=\"dataframe\">\n",
              "  <thead>\n",
              "    <tr style=\"text-align: right;\">\n",
              "      <th></th>\n",
              "      <th>quarter</th>\n",
              "      <th>department</th>\n",
              "      <th>day</th>\n",
              "      <th>team</th>\n",
              "      <th>targeted_productivity</th>\n",
              "      <th>smv</th>\n",
              "      <th>wip</th>\n",
              "      <th>over_time</th>\n",
              "      <th>incentive</th>\n",
              "      <th>idle_time</th>\n",
              "      <th>...</th>\n",
              "      <th>team_8</th>\n",
              "      <th>team_9</th>\n",
              "      <th>team_10</th>\n",
              "      <th>team_11</th>\n",
              "      <th>team_12</th>\n",
              "      <th>no_of_style_change_0</th>\n",
              "      <th>no_of_style_change_1</th>\n",
              "      <th>no_of_style_change_2</th>\n",
              "      <th>diff</th>\n",
              "      <th>Target_label</th>\n",
              "    </tr>\n",
              "    <tr>\n",
              "      <th>date</th>\n",
              "      <th></th>\n",
              "      <th></th>\n",
              "      <th></th>\n",
              "      <th></th>\n",
              "      <th></th>\n",
              "      <th></th>\n",
              "      <th></th>\n",
              "      <th></th>\n",
              "      <th></th>\n",
              "      <th></th>\n",
              "      <th></th>\n",
              "      <th></th>\n",
              "      <th></th>\n",
              "      <th></th>\n",
              "      <th></th>\n",
              "      <th></th>\n",
              "      <th></th>\n",
              "      <th></th>\n",
              "      <th></th>\n",
              "      <th></th>\n",
              "      <th></th>\n",
              "    </tr>\n",
              "  </thead>\n",
              "  <tbody>\n",
              "    <tr>\n",
              "      <th>2015-01-01</th>\n",
              "      <td>Quarter1</td>\n",
              "      <td>sweing</td>\n",
              "      <td>Thursday</td>\n",
              "      <td>8</td>\n",
              "      <td>0.80</td>\n",
              "      <td>26.16</td>\n",
              "      <td>1108.0</td>\n",
              "      <td>7080</td>\n",
              "      <td>98</td>\n",
              "      <td>0.0</td>\n",
              "      <td>...</td>\n",
              "      <td>1</td>\n",
              "      <td>0</td>\n",
              "      <td>0</td>\n",
              "      <td>0</td>\n",
              "      <td>0</td>\n",
              "      <td>1</td>\n",
              "      <td>0</td>\n",
              "      <td>0</td>\n",
              "      <td>0.140725</td>\n",
              "      <td>1.0</td>\n",
              "    </tr>\n",
              "    <tr>\n",
              "      <th>2015-01-01</th>\n",
              "      <td>Quarter1</td>\n",
              "      <td>finishing</td>\n",
              "      <td>Thursday</td>\n",
              "      <td>1</td>\n",
              "      <td>0.75</td>\n",
              "      <td>3.94</td>\n",
              "      <td>0.0</td>\n",
              "      <td>960</td>\n",
              "      <td>0</td>\n",
              "      <td>0.0</td>\n",
              "      <td>...</td>\n",
              "      <td>0</td>\n",
              "      <td>0</td>\n",
              "      <td>0</td>\n",
              "      <td>0</td>\n",
              "      <td>0</td>\n",
              "      <td>1</td>\n",
              "      <td>0</td>\n",
              "      <td>0</td>\n",
              "      <td>0.136500</td>\n",
              "      <td>1.0</td>\n",
              "    </tr>\n",
              "    <tr>\n",
              "      <th>2015-01-01</th>\n",
              "      <td>Quarter1</td>\n",
              "      <td>sweing</td>\n",
              "      <td>Thursday</td>\n",
              "      <td>11</td>\n",
              "      <td>0.80</td>\n",
              "      <td>11.41</td>\n",
              "      <td>968.0</td>\n",
              "      <td>3660</td>\n",
              "      <td>50</td>\n",
              "      <td>0.0</td>\n",
              "      <td>...</td>\n",
              "      <td>0</td>\n",
              "      <td>0</td>\n",
              "      <td>0</td>\n",
              "      <td>1</td>\n",
              "      <td>0</td>\n",
              "      <td>1</td>\n",
              "      <td>0</td>\n",
              "      <td>0</td>\n",
              "      <td>0.000570</td>\n",
              "      <td>1.0</td>\n",
              "    </tr>\n",
              "    <tr>\n",
              "      <th>2015-01-01</th>\n",
              "      <td>Quarter1</td>\n",
              "      <td>sweing</td>\n",
              "      <td>Thursday</td>\n",
              "      <td>12</td>\n",
              "      <td>0.80</td>\n",
              "      <td>11.41</td>\n",
              "      <td>968.0</td>\n",
              "      <td>3660</td>\n",
              "      <td>50</td>\n",
              "      <td>0.0</td>\n",
              "      <td>...</td>\n",
              "      <td>0</td>\n",
              "      <td>0</td>\n",
              "      <td>0</td>\n",
              "      <td>0</td>\n",
              "      <td>1</td>\n",
              "      <td>1</td>\n",
              "      <td>0</td>\n",
              "      <td>0</td>\n",
              "      <td>0.000570</td>\n",
              "      <td>1.0</td>\n",
              "    </tr>\n",
              "    <tr>\n",
              "      <th>2015-01-01</th>\n",
              "      <td>Quarter1</td>\n",
              "      <td>sweing</td>\n",
              "      <td>Thursday</td>\n",
              "      <td>6</td>\n",
              "      <td>0.80</td>\n",
              "      <td>25.90</td>\n",
              "      <td>1170.0</td>\n",
              "      <td>1920</td>\n",
              "      <td>50</td>\n",
              "      <td>0.0</td>\n",
              "      <td>...</td>\n",
              "      <td>0</td>\n",
              "      <td>0</td>\n",
              "      <td>0</td>\n",
              "      <td>0</td>\n",
              "      <td>0</td>\n",
              "      <td>1</td>\n",
              "      <td>0</td>\n",
              "      <td>0</td>\n",
              "      <td>0.000382</td>\n",
              "      <td>1.0</td>\n",
              "    </tr>\n",
              "  </tbody>\n",
              "</table>\n",
              "<p>5 rows × 44 columns</p>\n",
              "</div>"
            ],
            "text/plain": [
              "             quarter department       day  team  targeted_productivity    smv  \\\n",
              "date                                                                            \n",
              "2015-01-01  Quarter1     sweing  Thursday     8                   0.80  26.16   \n",
              "2015-01-01  Quarter1  finishing  Thursday     1                   0.75   3.94   \n",
              "2015-01-01  Quarter1     sweing  Thursday    11                   0.80  11.41   \n",
              "2015-01-01  Quarter1     sweing  Thursday    12                   0.80  11.41   \n",
              "2015-01-01  Quarter1     sweing  Thursday     6                   0.80  25.90   \n",
              "\n",
              "               wip  over_time  incentive  idle_time  ...  team_8  team_9  \\\n",
              "date                                                 ...                   \n",
              "2015-01-01  1108.0       7080         98        0.0  ...       1       0   \n",
              "2015-01-01     0.0        960          0        0.0  ...       0       0   \n",
              "2015-01-01   968.0       3660         50        0.0  ...       0       0   \n",
              "2015-01-01   968.0       3660         50        0.0  ...       0       0   \n",
              "2015-01-01  1170.0       1920         50        0.0  ...       0       0   \n",
              "\n",
              "            team_10  team_11  team_12  no_of_style_change_0  \\\n",
              "date                                                          \n",
              "2015-01-01        0        0        0                     1   \n",
              "2015-01-01        0        0        0                     1   \n",
              "2015-01-01        0        1        0                     1   \n",
              "2015-01-01        0        0        1                     1   \n",
              "2015-01-01        0        0        0                     1   \n",
              "\n",
              "            no_of_style_change_1  no_of_style_change_2      diff  Target_label  \n",
              "date                                                                            \n",
              "2015-01-01                     0                     0  0.140725           1.0  \n",
              "2015-01-01                     0                     0  0.136500           1.0  \n",
              "2015-01-01                     0                     0  0.000570           1.0  \n",
              "2015-01-01                     0                     0  0.000570           1.0  \n",
              "2015-01-01                     0                     0  0.000382           1.0  \n",
              "\n",
              "[5 rows x 44 columns]"
            ]
          },
          "metadata": {
            "tags": []
          },
          "execution_count": 70
        }
      ]
    },
    {
      "cell_type": "markdown",
      "metadata": {
        "id": "wK3vyE6Iwa81"
      },
      "source": [
        "If the difference between actual_productivity and targeted_productivity is positive it means productivity is in the range of over_performed,\n",
        "\n",
        "If the difference between actual_productivity and targeted_productivity is equal to 0 it meansproductivity is in the range of  as expected,\n",
        "\n",
        "If the difference between actual_productivity and targeted_productivity is negative it means productivity is in the range of under_performed\n"
      ]
    },
    {
      "cell_type": "code",
      "metadata": {
        "id": "xyoArnfrwa81",
        "outputId": "c5500ab9-5e4d-4bf7-ab61-a32139a2bf16"
      },
      "source": [
        "df[df['Target_label']==0]"
      ],
      "execution_count": null,
      "outputs": [
        {
          "output_type": "execute_result",
          "data": {
            "text/html": [
              "<div>\n",
              "<style scoped>\n",
              "    .dataframe tbody tr th:only-of-type {\n",
              "        vertical-align: middle;\n",
              "    }\n",
              "\n",
              "    .dataframe tbody tr th {\n",
              "        vertical-align: top;\n",
              "    }\n",
              "\n",
              "    .dataframe thead th {\n",
              "        text-align: right;\n",
              "    }\n",
              "</style>\n",
              "<table border=\"1\" class=\"dataframe\">\n",
              "  <thead>\n",
              "    <tr style=\"text-align: right;\">\n",
              "      <th></th>\n",
              "      <th>quarter</th>\n",
              "      <th>department</th>\n",
              "      <th>day</th>\n",
              "      <th>team</th>\n",
              "      <th>targeted_productivity</th>\n",
              "      <th>smv</th>\n",
              "      <th>wip</th>\n",
              "      <th>over_time</th>\n",
              "      <th>incentive</th>\n",
              "      <th>idle_time</th>\n",
              "      <th>...</th>\n",
              "      <th>team_8</th>\n",
              "      <th>team_9</th>\n",
              "      <th>team_10</th>\n",
              "      <th>team_11</th>\n",
              "      <th>team_12</th>\n",
              "      <th>no_of_style_change_0</th>\n",
              "      <th>no_of_style_change_1</th>\n",
              "      <th>no_of_style_change_2</th>\n",
              "      <th>diff</th>\n",
              "      <th>Target_label</th>\n",
              "    </tr>\n",
              "    <tr>\n",
              "      <th>date</th>\n",
              "      <th></th>\n",
              "      <th></th>\n",
              "      <th></th>\n",
              "      <th></th>\n",
              "      <th></th>\n",
              "      <th></th>\n",
              "      <th></th>\n",
              "      <th></th>\n",
              "      <th></th>\n",
              "      <th></th>\n",
              "      <th></th>\n",
              "      <th></th>\n",
              "      <th></th>\n",
              "      <th></th>\n",
              "      <th></th>\n",
              "      <th></th>\n",
              "      <th></th>\n",
              "      <th></th>\n",
              "      <th></th>\n",
              "      <th></th>\n",
              "      <th></th>\n",
              "    </tr>\n",
              "  </thead>\n",
              "  <tbody>\n",
              "    <tr>\n",
              "      <th>2015-01-10</th>\n",
              "      <td>Quarter2</td>\n",
              "      <td>sweing</td>\n",
              "      <td>Saturday</td>\n",
              "      <td>10</td>\n",
              "      <td>0.8</td>\n",
              "      <td>28.08</td>\n",
              "      <td>1082.0</td>\n",
              "      <td>10530</td>\n",
              "      <td>63</td>\n",
              "      <td>0.0</td>\n",
              "      <td>...</td>\n",
              "      <td>0</td>\n",
              "      <td>0</td>\n",
              "      <td>1</td>\n",
              "      <td>0</td>\n",
              "      <td>0</td>\n",
              "      <td>1</td>\n",
              "      <td>0</td>\n",
              "      <td>0</td>\n",
              "      <td>0.0</td>\n",
              "      <td>0.0</td>\n",
              "    </tr>\n",
              "    <tr>\n",
              "      <th>2015-01-11</th>\n",
              "      <td>Quarter2</td>\n",
              "      <td>sweing</td>\n",
              "      <td>Sunday</td>\n",
              "      <td>2</td>\n",
              "      <td>0.8</td>\n",
              "      <td>28.08</td>\n",
              "      <td>805.0</td>\n",
              "      <td>10530</td>\n",
              "      <td>63</td>\n",
              "      <td>0.0</td>\n",
              "      <td>...</td>\n",
              "      <td>0</td>\n",
              "      <td>0</td>\n",
              "      <td>0</td>\n",
              "      <td>0</td>\n",
              "      <td>0</td>\n",
              "      <td>1</td>\n",
              "      <td>0</td>\n",
              "      <td>0</td>\n",
              "      <td>0.0</td>\n",
              "      <td>0.0</td>\n",
              "    </tr>\n",
              "    <tr>\n",
              "      <th>2015-01-11</th>\n",
              "      <td>Quarter2</td>\n",
              "      <td>sweing</td>\n",
              "      <td>Sunday</td>\n",
              "      <td>10</td>\n",
              "      <td>0.8</td>\n",
              "      <td>28.08</td>\n",
              "      <td>762.0</td>\n",
              "      <td>10530</td>\n",
              "      <td>38</td>\n",
              "      <td>0.0</td>\n",
              "      <td>...</td>\n",
              "      <td>0</td>\n",
              "      <td>0</td>\n",
              "      <td>1</td>\n",
              "      <td>0</td>\n",
              "      <td>0</td>\n",
              "      <td>1</td>\n",
              "      <td>0</td>\n",
              "      <td>0</td>\n",
              "      <td>0.0</td>\n",
              "      <td>0.0</td>\n",
              "    </tr>\n",
              "    <tr>\n",
              "      <th>2015-01-12</th>\n",
              "      <td>Quarter2</td>\n",
              "      <td>sweing</td>\n",
              "      <td>Monday</td>\n",
              "      <td>2</td>\n",
              "      <td>0.8</td>\n",
              "      <td>28.08</td>\n",
              "      <td>737.0</td>\n",
              "      <td>10530</td>\n",
              "      <td>63</td>\n",
              "      <td>0.0</td>\n",
              "      <td>...</td>\n",
              "      <td>0</td>\n",
              "      <td>0</td>\n",
              "      <td>0</td>\n",
              "      <td>0</td>\n",
              "      <td>0</td>\n",
              "      <td>1</td>\n",
              "      <td>0</td>\n",
              "      <td>0</td>\n",
              "      <td>0.0</td>\n",
              "      <td>0.0</td>\n",
              "    </tr>\n",
              "    <tr>\n",
              "      <th>2015-01-13</th>\n",
              "      <td>Quarter2</td>\n",
              "      <td>sweing</td>\n",
              "      <td>Tuesday</td>\n",
              "      <td>2</td>\n",
              "      <td>0.8</td>\n",
              "      <td>28.08</td>\n",
              "      <td>723.0</td>\n",
              "      <td>10530</td>\n",
              "      <td>50</td>\n",
              "      <td>0.0</td>\n",
              "      <td>...</td>\n",
              "      <td>0</td>\n",
              "      <td>0</td>\n",
              "      <td>0</td>\n",
              "      <td>0</td>\n",
              "      <td>0</td>\n",
              "      <td>1</td>\n",
              "      <td>0</td>\n",
              "      <td>0</td>\n",
              "      <td>0.0</td>\n",
              "      <td>0.0</td>\n",
              "    </tr>\n",
              "    <tr>\n",
              "      <th>2015-02-19</th>\n",
              "      <td>Quarter3</td>\n",
              "      <td>sweing</td>\n",
              "      <td>Thursday</td>\n",
              "      <td>8</td>\n",
              "      <td>0.7</td>\n",
              "      <td>29.40</td>\n",
              "      <td>1116.0</td>\n",
              "      <td>6240</td>\n",
              "      <td>0</td>\n",
              "      <td>0.0</td>\n",
              "      <td>...</td>\n",
              "      <td>1</td>\n",
              "      <td>0</td>\n",
              "      <td>0</td>\n",
              "      <td>0</td>\n",
              "      <td>0</td>\n",
              "      <td>0</td>\n",
              "      <td>0</td>\n",
              "      <td>1</td>\n",
              "      <td>0.0</td>\n",
              "      <td>0.0</td>\n",
              "    </tr>\n",
              "  </tbody>\n",
              "</table>\n",
              "<p>6 rows × 44 columns</p>\n",
              "</div>"
            ],
            "text/plain": [
              "             quarter department       day  team  targeted_productivity    smv  \\\n",
              "date                                                                            \n",
              "2015-01-10  Quarter2     sweing  Saturday    10                    0.8  28.08   \n",
              "2015-01-11  Quarter2     sweing    Sunday     2                    0.8  28.08   \n",
              "2015-01-11  Quarter2     sweing    Sunday    10                    0.8  28.08   \n",
              "2015-01-12  Quarter2     sweing    Monday     2                    0.8  28.08   \n",
              "2015-01-13  Quarter2     sweing   Tuesday     2                    0.8  28.08   \n",
              "2015-02-19  Quarter3     sweing  Thursday     8                    0.7  29.40   \n",
              "\n",
              "               wip  over_time  incentive  idle_time  ...  team_8  team_9  \\\n",
              "date                                                 ...                   \n",
              "2015-01-10  1082.0      10530         63        0.0  ...       0       0   \n",
              "2015-01-11   805.0      10530         63        0.0  ...       0       0   \n",
              "2015-01-11   762.0      10530         38        0.0  ...       0       0   \n",
              "2015-01-12   737.0      10530         63        0.0  ...       0       0   \n",
              "2015-01-13   723.0      10530         50        0.0  ...       0       0   \n",
              "2015-02-19  1116.0       6240          0        0.0  ...       1       0   \n",
              "\n",
              "            team_10  team_11  team_12  no_of_style_change_0  \\\n",
              "date                                                          \n",
              "2015-01-10        1        0        0                     1   \n",
              "2015-01-11        0        0        0                     1   \n",
              "2015-01-11        1        0        0                     1   \n",
              "2015-01-12        0        0        0                     1   \n",
              "2015-01-13        0        0        0                     1   \n",
              "2015-02-19        0        0        0                     0   \n",
              "\n",
              "            no_of_style_change_1  no_of_style_change_2  diff  Target_label  \n",
              "date                                                                        \n",
              "2015-01-10                     0                     0   0.0           0.0  \n",
              "2015-01-11                     0                     0   0.0           0.0  \n",
              "2015-01-11                     0                     0   0.0           0.0  \n",
              "2015-01-12                     0                     0   0.0           0.0  \n",
              "2015-01-13                     0                     0   0.0           0.0  \n",
              "2015-02-19                     0                     1   0.0           0.0  \n",
              "\n",
              "[6 rows x 44 columns]"
            ]
          },
          "metadata": {
            "tags": []
          },
          "execution_count": 71
        }
      ]
    },
    {
      "cell_type": "markdown",
      "metadata": {
        "id": "9wgYgftSwa82"
      },
      "source": [
        "Comment\n",
        "\n",
        "You should check the distribution of your target here and check if there is any imbalance. If there is **imbalance**, you can use **SMOTE** library to upsample or downsample OR you can use **stratified shuffle** to create your train and test sets. If almost balanced, then you can proceed with training."
      ]
    },
    {
      "cell_type": "markdown",
      "metadata": {
        "id": "LCPrV7eswa82"
      },
      "source": [
        "## Splitting Train and Test Data"
      ]
    },
    {
      "cell_type": "code",
      "metadata": {
        "id": "5n00oc2Owa82"
      },
      "source": [
        "from sklearn.model_selection import train_test_split\n",
        "\n",
        "columns = ['quarter_Quarter1', 'quarter_Quarter2', 'quarter_Quarter3',\n",
        "       'quarter_Quarter4', 'quarter_Quarter5', 'department_finishing',\n",
        "       'department_sweing', 'day_Monday', 'day_Saturday', 'day_Sunday',\n",
        "       'day_Thursday', 'day_Tuesday', 'day_Wednesday', 'team_1', 'team_2',\n",
        "       'team_3', 'team_4', 'team_5', 'team_6', 'team_7', 'team_8', 'team_9',\n",
        "       'team_10', 'team_11', 'team_12', 'no_of_style_change_0',\n",
        "       'no_of_style_change_1', 'no_of_style_change_2']\n",
        "\n",
        "X = df[columns]\n",
        "y = df['Target_label']\n",
        "\n",
        "X_train, X_test, y_train, y_test = train_test_split(\n",
        "    X, y, test_size=0.2,random_state=0)"
      ],
      "execution_count": null,
      "outputs": []
    },
    {
      "cell_type": "markdown",
      "metadata": {
        "id": "vTrlwEedwa82"
      },
      "source": [
        "Comment\n",
        "\n",
        "Why did you choose these columns?"
      ]
    },
    {
      "cell_type": "code",
      "metadata": {
        "id": "iSG-HvpDwa82",
        "outputId": "60388b98-80e0-4f05-9d62-1a59ac59307e"
      },
      "source": [
        "X_train.shape"
      ],
      "execution_count": null,
      "outputs": [
        {
          "output_type": "execute_result",
          "data": {
            "text/plain": [
              "(957, 28)"
            ]
          },
          "metadata": {
            "tags": []
          },
          "execution_count": 73
        }
      ]
    },
    {
      "cell_type": "code",
      "metadata": {
        "id": "4MQXc-CXwa82",
        "outputId": "3520c7cd-196e-4fd7-c693-57c01826dc53"
      },
      "source": [
        "y_train.shape"
      ],
      "execution_count": null,
      "outputs": [
        {
          "output_type": "execute_result",
          "data": {
            "text/plain": [
              "(957,)"
            ]
          },
          "metadata": {
            "tags": []
          },
          "execution_count": 74
        }
      ]
    },
    {
      "cell_type": "code",
      "metadata": {
        "id": "i4HawFm9wa82",
        "outputId": "97151ec4-95bb-4b02-828d-fc625f119dee"
      },
      "source": [
        "X_test.shape"
      ],
      "execution_count": null,
      "outputs": [
        {
          "output_type": "execute_result",
          "data": {
            "text/plain": [
              "(240, 28)"
            ]
          },
          "metadata": {
            "tags": []
          },
          "execution_count": 75
        }
      ]
    },
    {
      "cell_type": "code",
      "metadata": {
        "id": "dKqOUAf1wa83",
        "outputId": "213a2d13-ac93-41e9-9046-e326c961c826"
      },
      "source": [
        "y_test.shape"
      ],
      "execution_count": null,
      "outputs": [
        {
          "output_type": "execute_result",
          "data": {
            "text/plain": [
              "(240,)"
            ]
          },
          "metadata": {
            "tags": []
          },
          "execution_count": 76
        }
      ]
    },
    {
      "cell_type": "markdown",
      "metadata": {
        "id": "nsdt7feFwa83"
      },
      "source": [
        "## Scaling"
      ]
    },
    {
      "cell_type": "code",
      "metadata": {
        "id": "xRmVgDOnwa83"
      },
      "source": [
        "from sklearn.preprocessing import MinMaxScaler\n",
        "scaler = MinMaxScaler()\n",
        "X_train = scaler.fit_transform(X_train)\n",
        "X_test = scaler.transform(X_test)"
      ],
      "execution_count": null,
      "outputs": []
    },
    {
      "cell_type": "markdown",
      "metadata": {
        "id": "aYpJIWhWwa83"
      },
      "source": [
        "Comment:\n",
        "\n",
        "Try to use more types of scalers and read about them."
      ]
    },
    {
      "cell_type": "markdown",
      "metadata": {
        "id": "4Mn1BFBVwa83"
      },
      "source": [
        "## Build Models\n"
      ]
    },
    {
      "cell_type": "markdown",
      "metadata": {
        "id": "f_842hmXwa83"
      },
      "source": [
        "1. Logistic Regression\n",
        "2. Decision Tree Classifiers\n",
        "3. Random Forests\n",
        "4. Support Vector Machines\n",
        "5. K-Nearest Neighbors\n",
        "6. Gaussian Naive Bayes\n",
        "7. LinearDiscriminantAnalysis"
      ]
    },
    {
      "cell_type": "code",
      "metadata": {
        "id": "oEOFaieNwa83"
      },
      "source": [
        "#from sklearn.discriminant_analysis import LinearDiscriminantAnalysis\n",
        "from sklearn.linear_model import LogisticRegression\n",
        "from sklearn.tree import DecisionTreeClassifier\n",
        "from sklearn.neighbors import KNeighborsClassifier\n",
        "from sklearn.ensemble import RandomForestClassifier\n",
        "from sklearn.svm import SVC\n",
        "from sklearn.discriminant_analysis import LinearDiscriminantAnalysis\n",
        "from sklearn.naive_bayes import GaussianNB\n",
        "\n",
        "from sklearn.metrics import precision_score,recall_score,accuracy_score"
      ],
      "execution_count": null,
      "outputs": []
    },
    {
      "cell_type": "markdown",
      "metadata": {
        "id": "CTLYM7Tgwa84"
      },
      "source": [
        "## 1- Logistic Regression"
      ]
    },
    {
      "cell_type": "code",
      "metadata": {
        "id": "H1WCqYtjwa84",
        "outputId": "f2274ecd-c23f-472f-bf7d-6ed9ed336771"
      },
      "source": [
        "logreg = LogisticRegression()\n",
        "logreg.fit(X_train, y_train)\n",
        "\n",
        "pred = logreg.predict(X_test)\n",
        "\n",
        "\n",
        "print('Accuracy of Logistic regression classifier on training set: {:.2f}'\n",
        "     .format(logreg.score(X_train, y_train)))\n",
        "print('Accuracy of Logistic regression classifier on test set: {:.2f}'\n",
        "     .format(logreg.score(X_test, y_test)))"
      ],
      "execution_count": null,
      "outputs": [
        {
          "output_type": "stream",
          "text": [
            "Accuracy of Logistic regression classifier on training set: 0.75\n",
            "Accuracy of Logistic regression classifier on test set: 0.76\n"
          ],
          "name": "stdout"
        }
      ]
    },
    {
      "cell_type": "code",
      "metadata": {
        "id": "6yLdoyotwa84",
        "outputId": "d72c5289-73f5-4cb5-ae7f-adab2e1ddadd"
      },
      "source": [
        "from sklearn.metrics import confusion_matrix\n",
        "\n",
        "conf_matrix = confusion_matrix(y_test, pred)\n",
        "\n",
        "conf_matrix"
      ],
      "execution_count": null,
      "outputs": [
        {
          "output_type": "execute_result",
          "data": {
            "text/plain": [
              "array([[ 18,  46],\n",
              "       [ 11, 165]], dtype=int64)"
            ]
          },
          "metadata": {
            "tags": []
          },
          "execution_count": 80
        }
      ]
    },
    {
      "cell_type": "markdown",
      "metadata": {
        "id": "pEoMK82Mwa84"
      },
      "source": [
        "## 2- Decision Tree Classifier"
      ]
    },
    {
      "cell_type": "code",
      "metadata": {
        "id": "JkBcZoI9wa84",
        "outputId": "beddacd0-40ce-4cc5-a7d8-995f8ad42c43"
      },
      "source": [
        "from sklearn.tree import DecisionTreeClassifier\n",
        "\n",
        "clf = DecisionTreeClassifier()\n",
        "clf.fit(X_train, y_train)\n",
        "\n",
        "pred = clf.predict(X_test)\n",
        "\n",
        "print('Accuracy of Decision Tree classifier on training set: {:.2f}'\n",
        "     .format(clf.score(X_train, y_train)))\n",
        "print('Accuracy of Decision Tree classifier on test set: {:.2f}'\n",
        "     .format(clf.score(X_test, y_test)))\n"
      ],
      "execution_count": null,
      "outputs": [
        {
          "output_type": "stream",
          "text": [
            "Accuracy of Decision Tree classifier on training set: 0.89\n",
            "Accuracy of Decision Tree classifier on test set: 0.67\n"
          ],
          "name": "stdout"
        }
      ]
    },
    {
      "cell_type": "code",
      "metadata": {
        "id": "zFGI8O2awa84",
        "outputId": "fdc285ce-f54e-4ff6-e015-a84efec0903a"
      },
      "source": [
        "clf.feature_importances_"
      ],
      "execution_count": null,
      "outputs": [
        {
          "output_type": "execute_result",
          "data": {
            "text/plain": [
              "array([0.0583783 , 0.05079768, 0.08200875, 0.04892584, 0.02000624,\n",
              "       0.        , 0.0879441 , 0.0578202 , 0.06342348, 0.04061972,\n",
              "       0.05634269, 0.04096699, 0.06298313, 0.02507128, 0.02894684,\n",
              "       0.02097795, 0.0232573 , 0.0265711 , 0.02557217, 0.03736237,\n",
              "       0.03349533, 0.01535358, 0.02734677, 0.02269258, 0.01788645,\n",
              "       0.01077641, 0.00856678, 0.00590595])"
            ]
          },
          "metadata": {
            "tags": []
          },
          "execution_count": 82
        }
      ]
    },
    {
      "cell_type": "code",
      "metadata": {
        "id": "OIn6R4HLwa85",
        "outputId": "edfecdb7-74e0-4efe-9429-811d72e5c8fb"
      },
      "source": [
        "ft_df=pd.DataFrame()\n",
        "ft_df['columns']=X_train.columns\n",
        "ft_df['feature_importance']=clf.feature_importances_\n",
        "ft_df"
      ],
      "execution_count": null,
      "outputs": [
        {
          "output_type": "error",
          "ename": "AttributeError",
          "evalue": "'numpy.ndarray' object has no attribute 'columns'",
          "traceback": [
            "\u001b[1;31m---------------------------------------------------------------------------\u001b[0m",
            "\u001b[1;31mAttributeError\u001b[0m                            Traceback (most recent call last)",
            "\u001b[1;32m<ipython-input-83-06679dafc00d>\u001b[0m in \u001b[0;36m<module>\u001b[1;34m\u001b[0m\n\u001b[0;32m      1\u001b[0m \u001b[0mft_df\u001b[0m\u001b[1;33m=\u001b[0m\u001b[0mpd\u001b[0m\u001b[1;33m.\u001b[0m\u001b[0mDataFrame\u001b[0m\u001b[1;33m(\u001b[0m\u001b[1;33m)\u001b[0m\u001b[1;33m\u001b[0m\u001b[1;33m\u001b[0m\u001b[0m\n\u001b[1;32m----> 2\u001b[1;33m \u001b[0mft_df\u001b[0m\u001b[1;33m[\u001b[0m\u001b[1;34m'columns'\u001b[0m\u001b[1;33m]\u001b[0m\u001b[1;33m=\u001b[0m\u001b[0mX_train\u001b[0m\u001b[1;33m.\u001b[0m\u001b[0mcolumns\u001b[0m\u001b[1;33m\u001b[0m\u001b[1;33m\u001b[0m\u001b[0m\n\u001b[0m\u001b[0;32m      3\u001b[0m \u001b[0mft_df\u001b[0m\u001b[1;33m[\u001b[0m\u001b[1;34m'feature_importance'\u001b[0m\u001b[1;33m]\u001b[0m\u001b[1;33m=\u001b[0m\u001b[0mclf\u001b[0m\u001b[1;33m.\u001b[0m\u001b[0mfeature_importances_\u001b[0m\u001b[1;33m\u001b[0m\u001b[1;33m\u001b[0m\u001b[0m\n\u001b[0;32m      4\u001b[0m \u001b[0mft_df\u001b[0m\u001b[1;33m\u001b[0m\u001b[1;33m\u001b[0m\u001b[0m\n",
            "\u001b[1;31mAttributeError\u001b[0m: 'numpy.ndarray' object has no attribute 'columns'"
          ]
        }
      ]
    },
    {
      "cell_type": "markdown",
      "metadata": {
        "id": "40--TNj3wa85"
      },
      "source": [
        "Comment:\n",
        "\n",
        "Use type to see what is X_train. X_train is a nump array and arrays won't have column names. column names are for Pandas dataframes. You should use X.columns.\n",
        "Check the following commands-\n",
        "\n",
        "`type(X_train)`\n",
        "`type(X)`\n",
        "`X.columns`"
      ]
    },
    {
      "cell_type": "code",
      "metadata": {
        "id": "JakAc0HBwa85"
      },
      "source": [
        "ft_df=ft_df.sort_values(by='feature_importance',ascending=False)"
      ],
      "execution_count": null,
      "outputs": []
    },
    {
      "cell_type": "code",
      "metadata": {
        "id": "So2_8EKewa85"
      },
      "source": [
        "\n",
        "sns.barplot(x='feature_importance',y='columns',data=ft_df)\n",
        "plt.show()"
      ],
      "execution_count": null,
      "outputs": []
    },
    {
      "cell_type": "markdown",
      "metadata": {
        "id": "F72w1XuBwa85"
      },
      "source": [
        "## 3- Random Forest"
      ]
    },
    {
      "cell_type": "code",
      "metadata": {
        "id": "K8YHOHOzwa85",
        "outputId": "abce29bd-0ead-4134-9422-5a7bf0703f54"
      },
      "source": [
        "clf_rfc=RandomForestClassifier(n_estimators=100)\n",
        "\n",
        "clf_rfc.fit(X_train, y_train)\n",
        "\n",
        "clf_rfc_pred=clf_rfc.predict(X_test)\n",
        "    \n",
        "\n",
        "accuracy_rfc =accuracy_score(y_test, clf_rfc_pred)\n",
        "\n",
        "print('Accuracy of Random Forest Classifier on training set: {:.2f}'\n",
        "     .format(clf_rfc.score(X_train, y_train)))\n",
        "print('Accuracy of Random Forest Classifier on test set: {:.2f}'\n",
        "     .format(clf_rfc.score(X_test, y_test)))"
      ],
      "execution_count": null,
      "outputs": [
        {
          "output_type": "stream",
          "text": [
            "Accuracy of Random Forest Classifier on training set: 0.89\n",
            "Accuracy of Random Forest Classifier on test set: 0.72\n"
          ],
          "name": "stdout"
        }
      ]
    },
    {
      "cell_type": "code",
      "metadata": {
        "id": "6LeKIxJVwa85",
        "outputId": "ec8cb70e-6583-47c9-8728-9424095ff12f"
      },
      "source": [
        "clf.feature_importances_\n",
        "ft_df_1=pd.DataFrame()\n",
        "ft_df_1['columns']=X_train.columns\n",
        "ft_df_1['feature_importance']=clf.feature_importances_\n",
        "ft_df_1"
      ],
      "execution_count": null,
      "outputs": [
        {
          "output_type": "error",
          "ename": "AttributeError",
          "evalue": "'numpy.ndarray' object has no attribute 'columns'",
          "traceback": [
            "\u001b[1;31m---------------------------------------------------------------------------\u001b[0m",
            "\u001b[1;31mAttributeError\u001b[0m                            Traceback (most recent call last)",
            "\u001b[1;32m<ipython-input-85-581449b4bcee>\u001b[0m in \u001b[0;36m<module>\u001b[1;34m\u001b[0m\n\u001b[0;32m      1\u001b[0m \u001b[0mclf\u001b[0m\u001b[1;33m.\u001b[0m\u001b[0mfeature_importances_\u001b[0m\u001b[1;33m\u001b[0m\u001b[1;33m\u001b[0m\u001b[0m\n\u001b[0;32m      2\u001b[0m \u001b[0mft_df_1\u001b[0m\u001b[1;33m=\u001b[0m\u001b[0mpd\u001b[0m\u001b[1;33m.\u001b[0m\u001b[0mDataFrame\u001b[0m\u001b[1;33m(\u001b[0m\u001b[1;33m)\u001b[0m\u001b[1;33m\u001b[0m\u001b[1;33m\u001b[0m\u001b[0m\n\u001b[1;32m----> 3\u001b[1;33m \u001b[0mft_df_1\u001b[0m\u001b[1;33m[\u001b[0m\u001b[1;34m'columns'\u001b[0m\u001b[1;33m]\u001b[0m\u001b[1;33m=\u001b[0m\u001b[0mX_train\u001b[0m\u001b[1;33m.\u001b[0m\u001b[0mcolumns\u001b[0m\u001b[1;33m\u001b[0m\u001b[1;33m\u001b[0m\u001b[0m\n\u001b[0m\u001b[0;32m      4\u001b[0m \u001b[0mft_df_1\u001b[0m\u001b[1;33m[\u001b[0m\u001b[1;34m'feature_importance'\u001b[0m\u001b[1;33m]\u001b[0m\u001b[1;33m=\u001b[0m\u001b[0mclf\u001b[0m\u001b[1;33m.\u001b[0m\u001b[0mfeature_importances_\u001b[0m\u001b[1;33m\u001b[0m\u001b[1;33m\u001b[0m\u001b[0m\n\u001b[0;32m      5\u001b[0m \u001b[0mft_df_1\u001b[0m\u001b[1;33m\u001b[0m\u001b[1;33m\u001b[0m\u001b[0m\n",
            "\u001b[1;31mAttributeError\u001b[0m: 'numpy.ndarray' object has no attribute 'columns'"
          ]
        }
      ]
    },
    {
      "cell_type": "code",
      "metadata": {
        "id": "QJKmkqzNwa86"
      },
      "source": [
        "ft_df_1=ft_df_1.sort_values(by='feature_importance',ascending=False)\n",
        "sns.barplot(x='feature_importance',y='columns',data=ft_df_1)"
      ],
      "execution_count": null,
      "outputs": []
    },
    {
      "cell_type": "markdown",
      "metadata": {
        "id": "9zY0HvkAwa86"
      },
      "source": [
        "## 4- Support Vector Machine"
      ]
    },
    {
      "cell_type": "code",
      "metadata": {
        "id": "BziY3cBewa86",
        "outputId": "5d9b1135-fbbd-4fbb-b042-28b380b0c2a6"
      },
      "source": [
        "from sklearn.svm import SVC\n",
        "\n",
        "svm = SVC()\n",
        "svm.fit(X_train, y_train)\n",
        "\n",
        "pred = svm.predict(X_test)\n",
        "\n",
        "print('Accuracy of SVM classifier on training set: {:.2f}'\n",
        "     .format(svm.score(X_train, y_train)))\n",
        "print('Accuracy of SVM classifier on test set: {:.2f}'\n",
        "     .format(svm.score(X_test, y_test)))\n"
      ],
      "execution_count": null,
      "outputs": [
        {
          "output_type": "stream",
          "text": [
            "Accuracy of SVM classifier on training set: 0.77\n",
            "Accuracy of SVM classifier on test set: 0.76\n"
          ],
          "name": "stdout"
        }
      ]
    },
    {
      "cell_type": "markdown",
      "metadata": {
        "id": "BSdtvl9pwa86"
      },
      "source": [
        "## 5- K-Nearest Neighbors"
      ]
    },
    {
      "cell_type": "code",
      "metadata": {
        "id": "DlqQFqsFwa86",
        "outputId": "0de62ff3-44d7-4551-c80a-7b11161dec02"
      },
      "source": [
        "knn = KNeighborsClassifier()\n",
        "knn.fit(X_train, y_train)\n",
        "\n",
        "pred = knn.predict(X_test)\n",
        "\n",
        "print('Accuracy of K-NN classifier on training set: {:.2f}'\n",
        "     .format(knn.score(X_train, y_train)))\n",
        "print('Accuracy of K-NN classifier on test set: {:.2f}'\n",
        "     .format(knn.score(X_test, y_test)))"
      ],
      "execution_count": null,
      "outputs": [
        {
          "output_type": "stream",
          "text": [
            "Accuracy of K-NN classifier on training set: 0.78\n",
            "Accuracy of K-NN classifier on test set: 0.72\n"
          ],
          "name": "stdout"
        }
      ]
    },
    {
      "cell_type": "markdown",
      "metadata": {
        "id": "mPQbb9wtwa86"
      },
      "source": [
        "## 6- Gaussian Naive Bayes"
      ]
    },
    {
      "cell_type": "code",
      "metadata": {
        "id": "OHW05hyXwa87",
        "outputId": "775b7502-f524-430f-8672-8231e5427825"
      },
      "source": [
        "gnb = GaussianNB()\n",
        "gnb.fit(X_train, y_train)\n",
        "print('Accuracy of GNB classifier on training set: {:.2f}'\n",
        "     .format(gnb.score(X_train, y_train)))\n",
        "print('Accuracy of GNB classifier on test set: {:.2f}'\n",
        "     .format(gnb.score(X_test, y_test)))"
      ],
      "execution_count": null,
      "outputs": [
        {
          "output_type": "stream",
          "text": [
            "Accuracy of GNB classifier on training set: 0.64\n",
            "Accuracy of GNB classifier on test set: 0.65\n"
          ],
          "name": "stdout"
        }
      ]
    },
    {
      "cell_type": "markdown",
      "metadata": {
        "id": "azmL-o-Owa87"
      },
      "source": [
        "## 7- Linear Discriminant Analysis"
      ]
    },
    {
      "cell_type": "code",
      "metadata": {
        "id": "wf8Nudnkwa87",
        "outputId": "8ed425e2-1ac0-48f8-afcc-dc28fa613fda"
      },
      "source": [
        "lda = LinearDiscriminantAnalysis()\n",
        "lda.fit(X_train, y_train)\n",
        "print('Accuracy of LDA classifier on training set: {:.2f}'\n",
        "     .format(lda.score(X_train, y_train)))\n",
        "print('Accuracy of LDA classifier on test set: {:.2f}'\n",
        "     .format(lda.score(X_test, y_test)))"
      ],
      "execution_count": null,
      "outputs": [
        {
          "output_type": "stream",
          "text": [
            "Accuracy of LDA classifier on training set: 0.75\n",
            "Accuracy of LDA classifier on test set: 0.76\n"
          ],
          "name": "stdout"
        }
      ]
    },
    {
      "cell_type": "code",
      "metadata": {
        "id": "ZBnBuBQIwa87",
        "outputId": "b0f4a945-44b1-4933-e2eb-220094b4ca3f"
      },
      "source": [
        "print('Accuracy of Logistic regression classifier on test set: {:.2f}'\n",
        "     .format(logreg.score(X_test, y_test)))\n",
        "print('Accuracy of Decision Tree classifier on test set: {:.2f}'\n",
        "     .format(clf.score(X_test, y_test)))\n",
        "print('Accuracy of Random Forest Classifier on test set: {:.2f}'\n",
        "     .format(clf_rfc.score(X_test, y_test)))\n",
        "print('Accuracy of SVM classifier on test set: {:.2f}'\n",
        "     .format(svm.score(X_test, y_test)))\n",
        "print('Accuracy of K-NN classifier on test set: {:.2f}'\n",
        "     .format(knn.score(X_test, y_test)))\n",
        "print('Accuracy of GNB classifier on test set: {:.2f}'\n",
        "     .format(gnb.score(X_test, y_test)))\n",
        "print('Accuracy of LDA classifier on test set: {:.2f}'\n",
        "     .format(lda.score(X_test, y_test)))"
      ],
      "execution_count": null,
      "outputs": [
        {
          "output_type": "stream",
          "text": [
            "Accuracy of Logistic regression classifier on test set: 0.76\n",
            "Accuracy of Decision Tree classifier on test set: 0.67\n",
            "Accuracy of Random Forest Classifier on test set: 0.72\n",
            "Accuracy of SVM classifier on test set: 0.76\n",
            "Accuracy of K-NN classifier on test set: 0.72\n",
            "Accuracy of GNB classifier on test set: 0.65\n",
            "Accuracy of LDA classifier on test set: 0.76\n"
          ],
          "name": "stdout"
        }
      ]
    },
    {
      "cell_type": "markdown",
      "metadata": {
        "id": "4_6J_LQkwa87"
      },
      "source": [
        "Logistic Regression, SVM and LDA has the same accuracy. In such a case waht should be the next step?"
      ]
    },
    {
      "cell_type": "markdown",
      "metadata": {
        "id": "Jntci1Chwa87"
      },
      "source": [
        "Comment:\n",
        "\n",
        "Really well done on improving your notebook. Gives me an impression that you have really understand your problem statement and you are able to draw conclusions.\n",
        "\n",
        "Further improvments-\n",
        "\n",
        "**Grid Search**\n",
        "1. Select one algorithms whose accuracy is the best.\n",
        "2. Use GridSearchCV to use tune the hyperparamters using Cross Validation.\n",
        "3. You will then get the best values for your hyperparamters\n",
        "\n",
        "**Organise Your ML model Results**\n",
        "Do you find it difficult to scroll up and down and view the results? If so, then create a dataframe and add one row or column for the results like -\n",
        "\n",
        "cols - performance metrics\n",
        "rows - ml model\n",
        "\n",
        "OR\n",
        "\n",
        "rows - performance metrics\n",
        "cols - ml model\n",
        "\n",
        "**Improve ML Training Codes**\n",
        "\n",
        "You are using fit and predict evertime right? You have done it 7 times. So why not write a function? Here is an example -\n",
        "\n",
        "`def train_and_predict(model, X_train, y_train, X_test, y_test):\n",
        "    model.fit(X_train, y_train)\n",
        "    y_pred = model.predict(X_test)\n",
        "    return model.score(y_pred, y_test)\n",
        "    \n",
        "print(train_and_predict(LinearDiscriminantAnalysis(), X_train, y_train, X_test, y_test))`\n",
        "\n",
        "\n",
        "Great job 👏"
      ]
    },
    {
      "cell_type": "code",
      "metadata": {
        "id": "rWK7QoBSwa88"
      },
      "source": [
        ""
      ],
      "execution_count": null,
      "outputs": []
    }
  ]
}